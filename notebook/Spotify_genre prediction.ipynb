{
 "cells": [
  {
   "cell_type": "markdown",
   "metadata": {},
   "source": [
    "# Import data"
   ]
  },
  {
   "cell_type": "code",
   "execution_count": 93,
   "metadata": {},
   "outputs": [
    {
     "name": "stdout",
     "output_type": "stream",
     "text": [
      "The autoreload extension is already loaded. To reload it, use:\n",
      "  %reload_ext autoreload\n"
     ]
    }
   ],
   "source": [
    "%load_ext autoreload\n",
    "%autoreload 2\n",
    "\n",
    "%matplotlib inline"
   ]
  },
  {
   "cell_type": "code",
   "execution_count": 94,
   "metadata": {},
   "outputs": [],
   "source": [
    "# base modules\n",
    "import os\n",
    "import sys\n",
    "import copy\n",
    "import logging\n",
    "\n",
    "# custom module\n",
    "from emlyon_module.imports import *\n",
    "from emlyon_module.structured import *\n",
    "\n",
    "# for manipulating data\n",
    "from pandas_summary import DataFrameSummary\n",
    "#!pip install dill\n",
    "import dill\n",
    "\n",
    "# for Machine Learning\n",
    "from sklearn.ensemble import RandomForestRegressor, RandomForestClassifier, BaggingRegressor\n",
    "from sklearn.tree import DecisionTreeRegressor, DecisionTreeClassifier, plot_tree\n",
    "from sklearn import metrics\n",
    "from sklearn.preprocessing import LabelEncoder\n",
    "from sklearn.model_selection import cross_val_score, KFold, GridSearchCV\n",
    "from sklearn.calibration import CalibratedClassifierCV\n",
    "from sklearn.inspection import permutation_importance\n",
    "from scipy.cluster import hierarchy\n",
    "\n",
    "# for visualization\n",
    "from IPython.display import display\n",
    "from matplotlib import pyplot as plt\n",
    "#!pip install -U plotnine\n",
    "from plotnine import ggplot, aes\n",
    "from plotnine.stats import stat_smooth\n",
    "from pdpbox import pdp\n",
    "# plotly\n",
    "# seaborn\n",
    "# altair"
   ]
  },
  {
   "cell_type": "markdown",
   "metadata": {},
   "source": [
    "## Dataset 1"
   ]
  },
  {
   "cell_type": "code",
   "execution_count": 95,
   "metadata": {},
   "outputs": [],
   "source": [
    "path_to_repo = os.path.dirname(os.getcwd())\n",
    "path_to_data = os.path.join(path_to_repo,\"data\",\"archive\",\"genres_v2.csv\")"
   ]
  },
  {
   "cell_type": "code",
   "execution_count": 96,
   "metadata": {},
   "outputs": [],
   "source": [
    "data_raw_large = pd.read_csv(\"../data/archive/data_w_genres.csv\")"
   ]
  },
  {
   "cell_type": "code",
   "execution_count": 97,
   "metadata": {},
   "outputs": [
    {
     "data": {
      "text/plain": [
       "0                        ['show tunes']\n",
       "1                                    []\n",
       "2                                    []\n",
       "3                                    []\n",
       "4                                    []\n",
       "5                                    []\n",
       "6                                    []\n",
       "7                                    []\n",
       "8    ['comedy rock', 'comic', 'parody']\n",
       "9                                    []\n",
       "Name: genres, dtype: object"
      ]
     },
     "execution_count": 97,
     "metadata": {},
     "output_type": "execute_result"
    }
   ],
   "source": [
    "data_raw_large[\"genres\"].head(10)"
   ]
  },
  {
   "cell_type": "code",
   "execution_count": 98,
   "metadata": {},
   "outputs": [
    {
     "data": {
      "text/plain": [
       "artists              object\n",
       "acousticness        float64\n",
       "danceability        float64\n",
       "duration_ms         float64\n",
       "energy              float64\n",
       "instrumentalness    float64\n",
       "liveness            float64\n",
       "loudness            float64\n",
       "speechiness         float64\n",
       "tempo               float64\n",
       "valence             float64\n",
       "popularity          float64\n",
       "key                   int64\n",
       "mode                  int64\n",
       "count                 int64\n",
       "genres               object\n",
       "dtype: object"
      ]
     },
     "execution_count": 98,
     "metadata": {},
     "output_type": "execute_result"
    }
   ],
   "source": [
    "data_raw_large.dtypes"
   ]
  },
  {
   "cell_type": "code",
   "execution_count": 99,
   "metadata": {},
   "outputs": [],
   "source": [
    "data_raw_large.replace(to_replace=\"[]\",value=np.nan,inplace=True)"
   ]
  },
  {
   "cell_type": "code",
   "execution_count": 100,
   "metadata": {},
   "outputs": [],
   "source": [
    "data_raw_large.dropna(subset=[\"genres\"],inplace=True,axis=0)"
   ]
  },
  {
   "cell_type": "code",
   "execution_count": 101,
   "metadata": {},
   "outputs": [
    {
     "data": {
      "text/plain": [
       "0                                           ['show tunes']\n",
       "8                       ['comedy rock', 'comic', 'parody']\n",
       "10       ['florida rap', 'underground hip hop', 'vapor ...\n",
       "11                               ['dark trap', 'meme rap']\n",
       "13       ['dark trap', 'new orleans rap', 'underground ...\n",
       "                               ...                        \n",
       "32530    ['c-pop', 'classic cantopop', 'classic mandopo...\n",
       "32531              ['chinese indie', 'chinese indie rock']\n",
       "32532          ['singaporean mandopop', 'singaporean pop']\n",
       "32533                               ['classic korean pop']\n",
       "32538                               ['classic korean pop']\n",
       "Name: genres, Length: 18976, dtype: object"
      ]
     },
     "execution_count": 101,
     "metadata": {},
     "output_type": "execute_result"
    }
   ],
   "source": [
    "data_raw_large[\"genres\"]"
   ]
  },
  {
   "cell_type": "code",
   "execution_count": 102,
   "metadata": {},
   "outputs": [
    {
     "data": {
      "text/plain": [
       "Counter({\"show tunes'\": 53,\n",
       "         'comedy rock': 1,\n",
       "         'florida rap': 4,\n",
       "         'dark trap': 39,\n",
       "         'broadway': 77,\n",
       "         'boston rock': 7,\n",
       "         'experimental hip hop': 1,\n",
       "         'detroit hip hop': 11,\n",
       "         'k-pop': 34,\n",
       "         'alternative metal': 263,\n",
       "         'boy band': 45,\n",
       "         \"indy indie'\": 1,\n",
       "         'alternative rock': 160,\n",
       "         'cyberpunk': 7,\n",
       "         'k-indie': 10,\n",
       "         'cali rap': 45,\n",
       "         'alternative r&b': 86,\n",
       "         'dub': 64,\n",
       "         'folk': 28,\n",
       "         'glitchcore': 3,\n",
       "         'adult standards': 350,\n",
       "         'album rock': 315,\n",
       "         'g funk': 41,\n",
       "         'atl hip hop': 106,\n",
       "         'horror punk': 4,\n",
       "         'acid rock': 16,\n",
       "         'progressive house': 92,\n",
       "         \"progressive trance house'\": 13,\n",
       "         'brill building pop': 121,\n",
       "         \"la indie'\": 4,\n",
       "         \"classic city pop'\": 16,\n",
       "         'bubblegum dance': 43,\n",
       "         'hip house': 4,\n",
       "         'electro': 40,\n",
       "         'dirty south rap': 50,\n",
       "         'eurodance': 17,\n",
       "         \"dirty texas rap'\": 8,\n",
       "         \"classic dubstep'\": 4,\n",
       "         'new age': 13,\n",
       "         'trap': 5,\n",
       "         \"cali rap'\": 12,\n",
       "         'emo rap': 36,\n",
       "         'afro dancehall': 8,\n",
       "         'bow pop': 28,\n",
       "         \"kentucky hip hop'\": 2,\n",
       "         'dance pop': 389,\n",
       "         \"russian trance'\": 6,\n",
       "         'christian music': 14,\n",
       "         'gangster rap': 31,\n",
       "         'early american folk': 2,\n",
       "         \"kawaii future bass'\": 1,\n",
       "         \"sad rap'\": 7,\n",
       "         \"trival'\": 1,\n",
       "         'big room': 92,\n",
       "         'girl group': 8,\n",
       "         \"dark minimal techno'\": 6,\n",
       "         \"baton rouge rap'\": 1,\n",
       "         'east coast hip hop': 51,\n",
       "         'nu metal': 2,\n",
       "         'new wave pop': 11,\n",
       "         'anime rock': 7,\n",
       "         'oi': 19,\n",
       "         'bubble trance': 21,\n",
       "         'balearic': 5,\n",
       "         'detroit trap': 2,\n",
       "         \"broadway'\": 34,\n",
       "         \"trap soul'\": 4,\n",
       "         'dark wave': 12,\n",
       "         \"environmental'\": 16,\n",
       "         'christian alternative rock': 13,\n",
       "         'ballroom': 9,\n",
       "         'canadian indie': 23,\n",
       "         \"miami bass'\": 7,\n",
       "         \"emo rap'\": 3,\n",
       "         'hardcore': 8,\n",
       "         \"uplifting trance'\": 12,\n",
       "         'grunge': 1,\n",
       "         '8-bit': 1,\n",
       "         'acid house': 16,\n",
       "         \"alternative hip hop'\": 8,\n",
       "         'canadian hip hop': 14,\n",
       "         'asian american hip hop': 4,\n",
       "         'crunk': 20,\n",
       "         \"futurepop'\": 1,\n",
       "         \"lo-fi beats'\": 21,\n",
       "         \"minneapolis sound'\": 2,\n",
       "         'house': 9,\n",
       "         \"bboy'\": 35,\n",
       "         \"florida rap'\": 5,\n",
       "         'alternative hip hop': 135,\n",
       "         'chicano punk': 3,\n",
       "         \"philly rap'\": 2,\n",
       "         'latin': 232,\n",
       "         'melodic rap': 32,\n",
       "         \"deep progressive trance'\": 3,\n",
       "         'latin christian': 35,\n",
       "         'art rock': 89,\n",
       "         'metalcore': 10,\n",
       "         \"new jack swing'\": 11,\n",
       "         'acoustic pop': 72,\n",
       "         'dance rock': 92,\n",
       "         'indiecoustica': 2,\n",
       "         'edm': 52,\n",
       "         \"dusseldorf electronic'\": 2,\n",
       "         'alternative pop rock': 7,\n",
       "         'boogie': 6,\n",
       "         'hip hop': 54,\n",
       "         'c-pop': 105,\n",
       "         'banda': 67,\n",
       "         \"lithuanian folk'\": 1,\n",
       "         'deep indian pop': 32,\n",
       "         'hindustani classical': 9,\n",
       "         'dream pop': 6,\n",
       "         'desi pop': 17,\n",
       "         'deep uplifting trance': 27,\n",
       "         \"scandipop'\": 6,\n",
       "         'japanese alternative rock': 1,\n",
       "         'europop': 9,\n",
       "         'preschool children\\'s music\"': 4,\n",
       "         'indie cafe pop': 20,\n",
       "         \"future bass'\": 2,\n",
       "         \"meme rap'\": 12,\n",
       "         'hip pop': 39,\n",
       "         'emo': 24,\n",
       "         'electropop': 75,\n",
       "         'opm': 15,\n",
       "         'acoustic punk': 5,\n",
       "         \"modern rock'\": 5,\n",
       "         \"serbian hip hop'\": 1,\n",
       "         \"j-rap'\": 1,\n",
       "         'melodic metalcore': 10,\n",
       "         'neo soul': 30,\n",
       "         'pop soul': 2,\n",
       "         \"scottish new wave'\": 2,\n",
       "         'pop edm': 3,\n",
       "         'classic opm': 26,\n",
       "         'english indie rock': 3,\n",
       "         'anime': 22,\n",
       "         'deep big room': 10,\n",
       "         'disco house': 23,\n",
       "         'la pop': 3,\n",
       "         'art pop': 68,\n",
       "         'karadeniz halk muzigi': 1,\n",
       "         \"abstract hip hop'\": 2,\n",
       "         'indie rock': 15,\n",
       "         'australian hip hop': 4,\n",
       "         \"modern bollywood'\": 4,\n",
       "         \"ghoststep'\": 1,\n",
       "         'american modern classical': 16,\n",
       "         'contemporary country': 196,\n",
       "         'rap': 10,\n",
       "         \"soul'\": 3,\n",
       "         'anthem worship': 64,\n",
       "         \"chicago house'\": 1,\n",
       "         'country': 92,\n",
       "         'cumbia sonidera': 15,\n",
       "         'classic bollywood': 63,\n",
       "         \"suomisaundi'\": 1,\n",
       "         'christian rock': 3,\n",
       "         \"vocal jazz'\": 14,\n",
       "         'arab folk': 12,\n",
       "         'desi hip hop': 14,\n",
       "         \"italian techno'\": 2,\n",
       "         \"musica costarricense'\": 1,\n",
       "         'indie psych-pop': 1,\n",
       "         'abstract hip hop': 17,\n",
       "         \"progressive psytrance'\": 11,\n",
       "         \"indie punk'\": 1,\n",
       "         'german punk': 2,\n",
       "         'baroque ensemble': 11,\n",
       "         'british orchestra': 23,\n",
       "         \"choral'\": 4,\n",
       "         \"italian baroque ensemble'\": 1,\n",
       "         \"classic soul'\": 13,\n",
       "         'progressive psytrance': 11,\n",
       "         'mexican rock-and-roll': 5,\n",
       "         'canzone napoletana': 18,\n",
       "         'doom metal': 9,\n",
       "         'british jazz': 2,\n",
       "         'tango': 9,\n",
       "         'latin jazz': 49,\n",
       "         'country rap': 24,\n",
       "         'progressive uplifting trance': 14,\n",
       "         \"progressive uplifting trance'\": 17,\n",
       "         \"harmonica blues'\": 3,\n",
       "         'pop': 36,\n",
       "         'indie poptimism': 20,\n",
       "         \"british classical piano'\": 7,\n",
       "         \"canadian electronic'\": 5,\n",
       "         \"pop rock'\": 15,\n",
       "         \"polish techno'\": 2,\n",
       "         \"deep disco house'\": 1,\n",
       "         'comedy': 17,\n",
       "         \"indie electropop'\": 7,\n",
       "         \"american folk revival'\": 17,\n",
       "         'british soul': 23,\n",
       "         \"new age'\": 13,\n",
       "         \"vocal trance'\": 46,\n",
       "         \"classical tenor'\": 23,\n",
       "         \"guitarra argentina'\": 3,\n",
       "         \"classic soundtrack'\": 22,\n",
       "         'early romantic era': 7,\n",
       "         'classic hardstyle': 23,\n",
       "         \"yacht rock'\": 19,\n",
       "         \"pop r&b'\": 9,\n",
       "         \"movie tunes'\": 68,\n",
       "         \"italian mezzo-soprano'\": 7,\n",
       "         \"spanish indie pop'\": 1,\n",
       "         \"classical soprano'\": 43,\n",
       "         'early music': 6,\n",
       "         'classic italian pop': 30,\n",
       "         \"american contemporary classical'\": 1,\n",
       "         \"latin classical'\": 3,\n",
       "         \"xtra raw'\": 2,\n",
       "         'brostep': 11,\n",
       "         \"indie pop'\": 13,\n",
       "         \"thai pop'\": 13,\n",
       "         'dutch edm': 2,\n",
       "         'bass trap': 27,\n",
       "         \"deep techno'\": 3,\n",
       "         'chillstep': 12,\n",
       "         'bronx hip hop': 23,\n",
       "         'comedy rap': 4,\n",
       "         'chicha': 9,\n",
       "         'funk': 83,\n",
       "         'deathcore': 6,\n",
       "         \"new wave'\": 2,\n",
       "         'folk punk': 2,\n",
       "         'neon pop punk': 11,\n",
       "         \"action rock'\": 2,\n",
       "         'hardcore punk': 17,\n",
       "         'dark post-punk': 11,\n",
       "         'melodic thrash': 1,\n",
       "         'classical mezzo-soprano': 14,\n",
       "         \"drama'\": 3,\n",
       "         \"chamber pop'\": 2,\n",
       "         'classic swedish pop': 24,\n",
       "         'electronica': 14,\n",
       "         'aggrotech': 6,\n",
       "         \"chilean rock'\": 1,\n",
       "         \"k-rap'\": 11,\n",
       "         'classical guitar': 13,\n",
       "         \"vintage tango'\": 12,\n",
       "         'bolero': 61,\n",
       "         \"arab pop'\": 2,\n",
       "         'bebop': 131,\n",
       "         'afghan pop': 5,\n",
       "         'progressive trance': 27,\n",
       "         \"turkish folk'\": 1,\n",
       "         \"thai folk rock'\": 2,\n",
       "         'scottish fiddle': 1,\n",
       "         'chillhop': 42,\n",
       "         'celtic': 41,\n",
       "         'pop punk': 9,\n",
       "         'folk-pop': 17,\n",
       "         'indie pop': 65,\n",
       "         'glam metal': 35,\n",
       "         'deep soft rock': 12,\n",
       "         \"australian house'\": 8,\n",
       "         \"re:techno'\": 2,\n",
       "         'turkish jazz': 1,\n",
       "         'mongolian hip hop': 1,\n",
       "         'trap venezolano': 1,\n",
       "         'barockinterpreten': 6,\n",
       "         'conscious hip hop': 31,\n",
       "         \"otacore'\": 15,\n",
       "         'j-pop': 15,\n",
       "         \"classic japanese jazz'\": 3,\n",
       "         \"japanese jazz'\": 2,\n",
       "         \"dance pop'\": 3,\n",
       "         \"australian alternative pop'\": 1,\n",
       "         'chicano rap': 30,\n",
       "         'australian pop': 27,\n",
       "         \"classic italian pop'\": 4,\n",
       "         \"country boogie'\": 4,\n",
       "         'flamenco guitar': 4,\n",
       "         'classic soul': 124,\n",
       "         'kirtan': 9,\n",
       "         \"jazz trio'\": 12,\n",
       "         'post-romantic era': 6,\n",
       "         \"new mexico music'\": 4,\n",
       "         \"background music'\": 7,\n",
       "         'big band': 73,\n",
       "         'blues': 70,\n",
       "         \"tin pan alley'\": 14,\n",
       "         \"arab alternative'\": 1,\n",
       "         'alabama indie': 3,\n",
       "         'corrido': 124,\n",
       "         'chanson': 55,\n",
       "         'classical piano': 33,\n",
       "         \"pinoy rock'\": 2,\n",
       "         'library music': 9,\n",
       "         'classical performance': 129,\n",
       "         'exotica': 16,\n",
       "         'classic soundtrack': 46,\n",
       "         'appalachian folk': 41,\n",
       "         \"soundtrack'\": 13,\n",
       "         'no wave': 2,\n",
       "         \"electro house'\": 4,\n",
       "         \"free folk'\": 1,\n",
       "         'classic canadian rock': 3,\n",
       "         'compositional ambient': 12,\n",
       "         'spanish new wave': 2,\n",
       "         \"spanish new wave'\": 1,\n",
       "         'bossa nova': 83,\n",
       "         'classical': 112,\n",
       "         \"boogie-woogie'\": 1,\n",
       "         'avant-garde': 16,\n",
       "         'dance-punk': 12,\n",
       "         'classical era': 7,\n",
       "         \"vintage chanson'\": 40,\n",
       "         \"harlem renaissance'\": 3,\n",
       "         'contemporary gospel': 19,\n",
       "         \"bolero'\": 2,\n",
       "         \"opera'\": 22,\n",
       "         \"hard minimal techno'\": 15,\n",
       "         'early modern classical': 15,\n",
       "         \"italian violin'\": 2,\n",
       "         \"cumbia'\": 7,\n",
       "         'cumbia': 20,\n",
       "         \"grupera'\": 21,\n",
       "         \"dunedin indie'\": 1,\n",
       "         'modern reggae': 6,\n",
       "         'manguebeat': 1,\n",
       "         'classical soprano': 31,\n",
       "         \"electronica chilena'\": 1,\n",
       "         \"vintage italian pop'\": 15,\n",
       "         \"pop romantico'\": 11,\n",
       "         'classical baritone': 12,\n",
       "         \"haitian traditional'\": 12,\n",
       "         \"operatic pop'\": 5,\n",
       "         \"bolero mexicano'\": 2,\n",
       "         'cantautor': 32,\n",
       "         'argentine rock': 35,\n",
       "         \"minimal tech house'\": 10,\n",
       "         \"rebetiko'\": 35,\n",
       "         \"ukrainian classical piano'\": 3,\n",
       "         \"italian trance'\": 5,\n",
       "         'italian tenor': 4,\n",
       "         'baroque': 37,\n",
       "         'canadian contemporary r&b': 16,\n",
       "         'british power metal': 2,\n",
       "         \"deep soul house'\": 2,\n",
       "         'bachata': 30,\n",
       "         \"merengue'\": 8,\n",
       "         \"smooth jazz'\": 20,\n",
       "         \"modern alternative rock'\": 3,\n",
       "         \"deep uplifting trance'\": 20,\n",
       "         \"contemporary country'\": 16,\n",
       "         \"progressive trance'\": 31,\n",
       "         'finnish edm': 3,\n",
       "         'german techno': 5,\n",
       "         \"vallenato moderno'\": 1,\n",
       "         \"uk dance'\": 5,\n",
       "         \"indie poptimism'\": 3,\n",
       "         'focus trance': 9,\n",
       "         \"tecnobanda'\": 7,\n",
       "         'modern rock': 30,\n",
       "         \"rock drums'\": 5,\n",
       "         \"danish pop'\": 3,\n",
       "         'christmas instrumental': 15,\n",
       "         'british folk': 25,\n",
       "         \"classical cello'\": 15,\n",
       "         'russian modern classical': 1,\n",
       "         \"historic orchestral performance'\": 18,\n",
       "         \"russian romanticism'\": 1,\n",
       "         \"classical bass'\": 26,\n",
       "         \"contemporary classical piano'\": 3,\n",
       "         'disco': 63,\n",
       "         \"electro'\": 6,\n",
       "         'bard': 2,\n",
       "         \"eurovision'\": 2,\n",
       "         \"string quartet'\": 3,\n",
       "         'axe': 11,\n",
       "         'british blues': 13,\n",
       "         'canadian post-hardcore': 3,\n",
       "         \"musica jibara'\": 4,\n",
       "         \"hawaiian'\": 16,\n",
       "         'austrian classical piano': 5,\n",
       "         'french classical piano': 3,\n",
       "         \"classical countertenor'\": 3,\n",
       "         \"deep latin christian'\": 2,\n",
       "         \"bahamian folk'\": 3,\n",
       "         \"classical clarinet'\": 8,\n",
       "         \"neoclassicism'\": 1,\n",
       "         'italian opera': 3,\n",
       "         \"italian bass'\": 11,\n",
       "         'classic colombian pop': 8,\n",
       "         \"cumbia colombiana regia'\": 2,\n",
       "         \"salsa international'\": 6,\n",
       "         'dhrupad': 4,\n",
       "         'afrobeat': 33,\n",
       "         'ethnotronica': 2,\n",
       "         \"french hip hop'\": 2,\n",
       "         'barnmusik': 3,\n",
       "         \"novelty'\": 14,\n",
       "         \"traditional soul'\": 3,\n",
       "         'afrofuturism': 23,\n",
       "         'torch song': 7,\n",
       "         'old-time': 1,\n",
       "         \"disco'\": 23,\n",
       "         'goa psytrance': 1,\n",
       "         \"classic rock'\": 5,\n",
       "         \"baroque violin'\": 1,\n",
       "         'bluegrass': 26,\n",
       "         'aussietronica': 10,\n",
       "         \"bubblegum pop'\": 21,\n",
       "         'chicago punk': 5,\n",
       "         \"rebel blues'\": 2,\n",
       "         'classic russian pop': 5,\n",
       "         'freak folk': 4,\n",
       "         'jazz funk': 34,\n",
       "         \"underground hip hop'\": 7,\n",
       "         \"comic'\": 7,\n",
       "         \"pre-war blues'\": 4,\n",
       "         \"classic uk pop'\": 19,\n",
       "         'reggaeton': 13,\n",
       "         'electro house': 2,\n",
       "         'african reggae': 2,\n",
       "         'italian modern prog': 1,\n",
       "         \"brain waves'\": 1,\n",
       "         'black punk': 2,\n",
       "         \"american classical piano'\": 11,\n",
       "         \"sertanejo tradicional'\": 3,\n",
       "         \"boy soprano'\": 2,\n",
       "         'trap boricua': 1,\n",
       "         'children\\'s music\"': 19,\n",
       "         \"new orleans jazz'\": 4,\n",
       "         'chicago soul': 14,\n",
       "         'blues rock': 64,\n",
       "         'classic uk pop': 36,\n",
       "         \"garage house'\": 5,\n",
       "         'classic russian rock': 4,\n",
       "         'quiet storm': 8,\n",
       "         \"classify'\": 4,\n",
       "         'anti-folk': 19,\n",
       "         'hollywood': 45,\n",
       "         'alternative country': 95,\n",
       "         \"diva house'\": 2,\n",
       "         'classic punjabi pop': 1,\n",
       "         'gothic symphonic metal': 2,\n",
       "         'greek pop': 6,\n",
       "         'country rock': 41,\n",
       "         'indie anthem-folk': 12,\n",
       "         \"art pop'\": 1,\n",
       "         'otacore': 4,\n",
       "         \"world meditation'\": 1,\n",
       "         \"sound'\": 16,\n",
       "         'french opera': 2,\n",
       "         'opera': 7,\n",
       "         \"british choir'\": 9,\n",
       "         \"christmas instrumental'\": 21,\n",
       "         \"hardstyle'\": 2,\n",
       "         \"deep melodic hard rock'\": 1,\n",
       "         'alternative emo': 37,\n",
       "         \"pop punk'\": 2,\n",
       "         'boston hardcore': 5,\n",
       "         'american orchestra': 20,\n",
       "         \"horror punk'\": 2,\n",
       "         \"karaoke'\": 5,\n",
       "         \"hip pop'\": 9,\n",
       "         \"shaabi'\": 1,\n",
       "         'ghazal': 2,\n",
       "         'latin pop': 16,\n",
       "         'ambient folk': 8,\n",
       "         'big beat': 40,\n",
       "         \"belo horizonte indie'\": 1,\n",
       "         'finnish death metal': 2,\n",
       "         'deep liquid bass': 1,\n",
       "         \"classic thai pop'\": 7,\n",
       "         'arab pop': 8,\n",
       "         'bhangra': 10,\n",
       "         'chillwave': 23,\n",
       "         'disney': 51,\n",
       "         'american romanticism': 6,\n",
       "         \"modern blues'\": 1,\n",
       "         \"children's folk\": 8,\n",
       "         \"toronto indie'\": 1,\n",
       "         \"fado'\": 2,\n",
       "         'narodna muzika': 4,\n",
       "         'cancion melodica': 18,\n",
       "         'grupera': 44,\n",
       "         \"swedish pop'\": 5,\n",
       "         'background music': 6,\n",
       "         'chilean indie': 1,\n",
       "         'bitpop': 1,\n",
       "         'sitar': 1,\n",
       "         'gothic metal': 3,\n",
       "         \"chillhop'\": 9,\n",
       "         \"psychedelic blues-rock'\": 4,\n",
       "         \"russian dance'\": 2,\n",
       "         'nordic contemporary classical': 2,\n",
       "         \"dansband'\": 4,\n",
       "         \"escape room'\": 4,\n",
       "         'cumbia andina mexicana': 2,\n",
       "         'gospel': 18,\n",
       "         \"deep deep house'\": 2,\n",
       "         \"easy listening'\": 14,\n",
       "         \"comedy rap'\": 2,\n",
       "         \"classical performance'\": 7,\n",
       "         'classical tenor': 16,\n",
       "         \"italian baroque'\": 2,\n",
       "         \"swedish contemporary classical'\": 2,\n",
       "         \"swiss classical piano'\": 3,\n",
       "         'german tech house': 2,\n",
       "         'swedish indie pop': 1,\n",
       "         'baroque singing': 1,\n",
       "         'harp': 1,\n",
       "         'choral': 15,\n",
       "         \"comedy'\": 5,\n",
       "         'soft rock': 6,\n",
       "         'avant-garde jazz': 56,\n",
       "         \"spytrack'\": 3,\n",
       "         'hopebeat': 4,\n",
       "         'historically informed performance': 2,\n",
       "         \"native american'\": 2,\n",
       "         \"rap romantico'\": 1,\n",
       "         \"orchestral performance'\": 47,\n",
       "         \"hungarian classical performance'\": 18,\n",
       "         'acousmatic': 6,\n",
       "         \"early avant garde'\": 3,\n",
       "         'canadian classical piano': 3,\n",
       "         'easy listening': 14,\n",
       "         \"pixie'\": 1,\n",
       "         'trance': 9,\n",
       "         \"slovak electronic'\": 1,\n",
       "         'clean comedy': 7,\n",
       "         \"deep minimal techno'\": 9,\n",
       "         'christian hip hop': 6,\n",
       "         \"deep dnb'\": 3,\n",
       "         'deep smooth jazz': 6,\n",
       "         \"jazz fusion'\": 2,\n",
       "         'melancholia': 1,\n",
       "         'bouzouki': 8,\n",
       "         \"macedonian folk'\": 41,\n",
       "         \"gothic symphonic metal'\": 1,\n",
       "         'german metal': 12,\n",
       "         \"cumbia ecuatoriana'\": 1,\n",
       "         \"latin tech house'\": 5,\n",
       "         'alternative americana': 4,\n",
       "         \"acoustic pop'\": 7,\n",
       "         'mariachi': 33,\n",
       "         \"velha guarda'\": 13,\n",
       "         \"texas blues'\": 2,\n",
       "         \"mexican rock-and-roll'\": 12,\n",
       "         \"freestyle'\": 18,\n",
       "         \"russian power metal'\": 1,\n",
       "         'gypsy jazz': 2,\n",
       "         \"italian tenor'\": 16,\n",
       "         'frenchcore': 7,\n",
       "         \"bc underground hip hop'\": 1,\n",
       "         'australian indie folk': 4,\n",
       "         \"classic bollywood'\": 19,\n",
       "         'alternative dance': 107,\n",
       "         \"space age pop'\": 13,\n",
       "         \"vintage hollywood'\": 22,\n",
       "         'funk carioca': 4,\n",
       "         'classical cello': 7,\n",
       "         \"canadian pop'\": 6,\n",
       "         'indian indie': 3,\n",
       "         \"classic polish pop'\": 2,\n",
       "         \"ye ye'\": 4,\n",
       "         \"post-teen pop'\": 13,\n",
       "         \"german dance'\": 4,\n",
       "         \"alternative r&b'\": 8,\n",
       "         \"violin'\": 14,\n",
       "         'baroque cello': 1,\n",
       "         \"old west'\": 2,\n",
       "         'historic piano performance': 10,\n",
       "         'comic metal': 5,\n",
       "         \"la pop'\": 7,\n",
       "         'american early music': 2,\n",
       "         'c86': 14,\n",
       "         'classic persian pop': 4,\n",
       "         \"rock steady'\": 10,\n",
       "         \"new jersey rap'\": 7,\n",
       "         'chill r&b': 7,\n",
       "         'hungarian classical performance': 4,\n",
       "         'ccm': 47,\n",
       "         \"classical horn'\": 5,\n",
       "         \"english renaissance'\": 1,\n",
       "         'classical organ': 6,\n",
       "         'circuit': 8,\n",
       "         'late romantic era': 5,\n",
       "         \"german literature'\": 4,\n",
       "         'austro-german modernism': 5,\n",
       "         \"canzone d'autore\": 11,\n",
       "         \"hollywood'\": 46,\n",
       "         'italian romanticism': 3,\n",
       "         \"italian electronica'\": 1,\n",
       "         \"mexican traditional'\": 1,\n",
       "         'galante era': 3,\n",
       "         'bachata dominicana': 4,\n",
       "         \"australian electropop'\": 4,\n",
       "         \"filmi'\": 14,\n",
       "         'bhajan': 4,\n",
       "         'canadian metal': 4,\n",
       "         'deep new wave': 2,\n",
       "         \"berlin minimal techno'\": 19,\n",
       "         'cumbia lagunera': 3,\n",
       "         \"uk dancehall'\": 1,\n",
       "         \"video game music'\": 8,\n",
       "         'ambient': 37,\n",
       "         'blackened deathcore': 3,\n",
       "         \"j-indie'\": 1,\n",
       "         \"greek clarinet'\": 8,\n",
       "         \"minimal techno'\": 1,\n",
       "         \"meditation'\": 7,\n",
       "         'piano rock': 4,\n",
       "         'choro': 7,\n",
       "         \"baroque ensemble'\": 2,\n",
       "         'caucasian classical': 1,\n",
       "         'italian library music': 3,\n",
       "         'alternative pop': 51,\n",
       "         \"poetry'\": 24,\n",
       "         \"atl hip hop'\": 12,\n",
       "         \"psychedelic soul'\": 4,\n",
       "         'garage rock': 3,\n",
       "         \"dutch trance'\": 22,\n",
       "         \"classic persian pop'\": 6,\n",
       "         \"peruvian rock'\": 1,\n",
       "         \"social media pop'\": 19,\n",
       "         'classic israeli pop': 18,\n",
       "         'pop rap': 14,\n",
       "         'future bass': 4,\n",
       "         'brutal death metal': 6,\n",
       "         'deep groove house': 17,\n",
       "         \"vintage italian soundtrack'\": 8,\n",
       "         \"belly dance'\": 1,\n",
       "         'streichquartett': 2,\n",
       "         \"rumba'\": 9,\n",
       "         'dutch trance': 16,\n",
       "         'dreamo': 14,\n",
       "         'hard rock': 12,\n",
       "         \"europop'\": 5,\n",
       "         'jazz saxophone': 13,\n",
       "         'british modern classical': 15,\n",
       "         \"tejano'\": 25,\n",
       "         'comic': 27,\n",
       "         \"uk pop'\": 7,\n",
       "         \"chip hop'\": 1,\n",
       "         \"deep adult standards'\": 10,\n",
       "         \"new orleans funk'\": 2,\n",
       "         'gabba': 18,\n",
       "         'hard bop': 11,\n",
       "         \"jazz accordion'\": 2,\n",
       "         \"vintage rockabilly'\": 2,\n",
       "         'deep house': 19,\n",
       "         'russian pop': 1,\n",
       "         \"music hall'\": 1,\n",
       "         \"reading'\": 6,\n",
       "         \"psychedelic rock'\": 6,\n",
       "         \"italian romanticism'\": 1,\n",
       "         'baltic classical': 1,\n",
       "         \"anime score'\": 7,\n",
       "         'classic thai pop': 10,\n",
       "         'chutney': 7,\n",
       "         \"indian jazz'\": 1,\n",
       "         'healing': 16,\n",
       "         'grime': 5,\n",
       "         \"tech trance'\": 9,\n",
       "         \"chinese traditional'\": 2,\n",
       "         'bandoneon': 2,\n",
       "         'ambient psychill': 1,\n",
       "         'death metal': 9,\n",
       "         'samba': 9,\n",
       "         'historic orchestral performance': 16,\n",
       "         'colombian rock': 2,\n",
       "         'afro house': 3,\n",
       "         'british alternative rock': 2,\n",
       "         \"deep funk house'\": 2,\n",
       "         \"full on'\": 4,\n",
       "         'downtempo': 24,\n",
       "         'argentine punk': 2,\n",
       "         'atlanta metal': 1,\n",
       "         'british industrial': 4,\n",
       "         'deep pop edm': 1,\n",
       "         'reggae rock': 3,\n",
       "         'deep disco house': 4,\n",
       "         \"alternative roots rock'\": 2,\n",
       "         \"italian blues'\": 5,\n",
       "         'christian metal': 7,\n",
       "         \"j-core'\": 1,\n",
       "         \"classical flute'\": 11,\n",
       "         'post-teen pop': 6,\n",
       "         'australian alternative rock': 14,\n",
       "         'abstract': 5,\n",
       "         'arizona punk': 1,\n",
       "         'deep tropical house': 5,\n",
       "         \"hopebeat'\": 1,\n",
       "         \"southern soul blues'\": 3,\n",
       "         \"hard trance'\": 5,\n",
       "         'brazilian indie': 2,\n",
       "         \"dubsteppe'\": 3,\n",
       "         'canadian pop': 20,\n",
       "         'deep minimal techno': 9,\n",
       "         \"jordanian pop'\": 1,\n",
       "         'folktronica': 2,\n",
       "         'social media pop': 1,\n",
       "         'afropop': 17,\n",
       "         'classic j-pop': 8,\n",
       "         \"japanese piano'\": 2,\n",
       "         'new jack swing': 21,\n",
       "         'bmore': 2,\n",
       "         \"batida'\": 1,\n",
       "         'rumba': 2,\n",
       "         'funk mexicano': 1,\n",
       "         \"japanese instrumental'\": 2,\n",
       "         'baglama': 1,\n",
       "         'post-screamo': 2,\n",
       "         \"trap'\": 5,\n",
       "         \"post-disco'\": 6,\n",
       "         'deep southern trap': 7,\n",
       "         'deep g funk': 1,\n",
       "         \"kannada bhava geethe'\": 3,\n",
       "         \"trap queen'\": 4,\n",
       "         \"boy band'\": 5,\n",
       "         \"vapor trap'\": 3,\n",
       "         \"k-pop boy group'\": 1,\n",
       "         'nz pop': 2,\n",
       "         'escape room': 6,\n",
       "         \"dutch edm'\": 2,\n",
       "         'anime latino': 2,\n",
       "         'j-metal': 4,\n",
       "         \"korean pop'\": 9,\n",
       "         'african percussion': 2,\n",
       "         'jazz drums': 4,\n",
       "         \"lullaby'\": 7,\n",
       "         \"sleep'\": 41,\n",
       "         'beach music': 5,\n",
       "         'idol rock': 3,\n",
       "         \"barockinterpreten'\": 1,\n",
       "         'colombian pop': 16,\n",
       "         \"boston hardcore'\": 1,\n",
       "         \"west coast trap'\": 5,\n",
       "         'ska': 3,\n",
       "         'punk': 9,\n",
       "         'modern alternative rock': 22,\n",
       "         'britpop': 22,\n",
       "         \"bahamian pop'\": 1,\n",
       "         \"surf music'\": 13,\n",
       "         'yugoslav new wave': 1,\n",
       "         \"uk alternative hip hop'\": 3,\n",
       "         \"shabad'\": 2,\n",
       "         \"marathi traditional'\": 10,\n",
       "         \"reggae rock'\": 9,\n",
       "         'italian disco': 1,\n",
       "         \"stomp and flutter'\": 2,\n",
       "         \"shamanic'\": 3,\n",
       "         \"bubblegum dance'\": 3,\n",
       "         'classic czech pop': 1,\n",
       "         \"australian children's music\": 5,\n",
       "         \"musical advocacy'\": 2,\n",
       "         'musica hondurena': 2,\n",
       "         'latin alternative': 29,\n",
       "         'banda caliente': 9,\n",
       "         'banda carnavalera': 1,\n",
       "         'bedroom pop': 19,\n",
       "         'baton rouge rap': 14,\n",
       "         'funk metal': 12,\n",
       "         \"hands up'\": 4,\n",
       "         \"black 'n' roll\": 2,\n",
       "         'classic country pop': 41,\n",
       "         'chicago house': 21,\n",
       "         \"indie hip hop'\": 2,\n",
       "         'cartoon': 16,\n",
       "         \"classic canadian rock'\": 11,\n",
       "         'french jazz': 3,\n",
       "         \"motown'\": 6,\n",
       "         \"rock urbano mexicano'\": 2,\n",
       "         \"british alternative rock'\": 3,\n",
       "         'british classical piano': 10,\n",
       "         \"soft rock'\": 16,\n",
       "         'bubblegum pop': 27,\n",
       "         'red dirt': 12,\n",
       "         'brazilian rock': 9,\n",
       "         'latin metal': 3,\n",
       "         'metropopolis': 5,\n",
       "         'smooth jazz': 13,\n",
       "         'colombian hip hop': 2,\n",
       "         \"greek techno'\": 1,\n",
       "         'hardstyle': 7,\n",
       "         'garage pop': 7,\n",
       "         'breakbeat': 4,\n",
       "         'frankfurt electronic': 3,\n",
       "         \"frankfurt electronic'\": 3,\n",
       "         'autonomous black metal': 1,\n",
       "         'psychobilly': 8,\n",
       "         \"german dark minimal techno'\": 1,\n",
       "         \"pinoy traditional'\": 3,\n",
       "         \"torch song'\": 5,\n",
       "         'bubblegrunge': 4,\n",
       "         'brooklyn indie': 4,\n",
       "         'battle rap': 9,\n",
       "         'houston rap': 6,\n",
       "         'german indie': 3,\n",
       "         \"funky breaks'\": 2,\n",
       "         \"gospel'\": 36,\n",
       "         'cha-cha-cha': 4,\n",
       "         'indie garage rock': 27,\n",
       "         'dancehall': 28,\n",
       "         'albuquerque indie': 3,\n",
       "         'french hip hop': 3,\n",
       "         \"calypso'\": 19,\n",
       "         \"orchestra'\": 20,\n",
       "         'thai indie rock': 4,\n",
       "         'canadian singer-songwriter': 8,\n",
       "         'cajun': 3,\n",
       "         \"progressive house'\": 8,\n",
       "         'permanent wave': 7,\n",
       "         \"neo mellow'\": 9,\n",
       "         \"modern folk rock'\": 4,\n",
       "         'british singer-songwriter': 5,\n",
       "         \"gregorian chant'\": 9,\n",
       "         \"choro'\": 1,\n",
       "         \"swedish jazz'\": 2,\n",
       "         \"swedish jazz orkester'\": 2,\n",
       "         \"neo-classical'\": 6,\n",
       "         'british soundtrack': 14,\n",
       "         'cool jazz': 11,\n",
       "         \"deep christian rock'\": 5,\n",
       "         \"classic praise'\": 4,\n",
       "         \"jazz trombone'\": 5,\n",
       "         'dominican pop': 21,\n",
       "         'dutch pop': 6,\n",
       "         'lovers rock': 13,\n",
       "         'spanish hip hop': 1,\n",
       "         \"german orchestra'\": 6,\n",
       "         'german orchestra': 3,\n",
       "         \"rosary'\": 7,\n",
       "         'jazz blues': 13,\n",
       "         \"post-disco soul'\": 5,\n",
       "         \"german classical piano'\": 7,\n",
       "         \"background piano'\": 7,\n",
       "         \"swedish prog'\": 2,\n",
       "         \"vintage swing'\": 3,\n",
       "         \"shiver pop'\": 1,\n",
       "         'ambient worship': 2,\n",
       "         'rhythm and blues': 8,\n",
       "         \"new wave pop'\": 16,\n",
       "         'brazilian hip hop': 1,\n",
       "         \"gujarati garba'\": 1,\n",
       "         'filmi': 7,\n",
       "         'bangla': 12,\n",
       "         \"bible'\": 1,\n",
       "         'lilith': 9,\n",
       "         \"oktoberfest'\": 2,\n",
       "         \"francoton'\": 2,\n",
       "         'thai folk rock': 4,\n",
       "         'electro swing': 4,\n",
       "         'acoustic blues': 48,\n",
       "         \"shimmer pop'\": 5,\n",
       "         'tejano': 10,\n",
       "         'celtic rock': 6,\n",
       "         'jam band': 15,\n",
       "         'barrelhouse piano': 3,\n",
       "         'chopped and screwed': 8,\n",
       "         'reggae': 18,\n",
       "         'hardcore hip hop': 9,\n",
       "         'australian rock': 9,\n",
       "         'boston hip hop': 6,\n",
       "         \"colombian hip hop'\": 1,\n",
       "         \"chicago rap'\": 10,\n",
       "         \"atl trap'\": 5,\n",
       "         'indie punk': 2,\n",
       "         \"southern gospel'\": 8,\n",
       "         \"nashville sound'\": 8,\n",
       "         'jazz fusion': 4,\n",
       "         \"traditional country'\": 11,\n",
       "         \"traditional bluegrass'\": 2,\n",
       "         'jazz organ': 1,\n",
       "         \"british folk'\": 8,\n",
       "         \"jazz orchestra'\": 1,\n",
       "         \"psychedelic folk rock'\": 5,\n",
       "         \"rock-and-roll'\": 3,\n",
       "         \"beach music'\": 6,\n",
       "         'cosmic american': 5,\n",
       "         \"classic country pop'\": 13,\n",
       "         'classic venezuelan pop': 19,\n",
       "         \"rhythm and blues'\": 13,\n",
       "         \"middle earth'\": 3,\n",
       "         \"jazz trumpet'\": 8,\n",
       "         \"alternative rock'\": 5,\n",
       "         'bluegrass gospel': 3,\n",
       "         'hammond organ': 7,\n",
       "         'arkansas country': 16,\n",
       "         'meme rap': 14,\n",
       "         \"jazz piano'\": 2,\n",
       "         \"swamp pop'\": 4,\n",
       "         \"australian rock'\": 7,\n",
       "         \"vocal harmony group'\": 7,\n",
       "         'acid trance': 2,\n",
       "         'binaural': 1,\n",
       "         'musica popular colombiana': 8,\n",
       "         \"jumpstyle'\": 7,\n",
       "         \"gauze pop'\": 2,\n",
       "         \"vapor twitch'\": 3,\n",
       "         \"dixieland'\": 8,\n",
       "         \"detroit hip hop'\": 3,\n",
       "         'diva house': 9,\n",
       "         'brooklyn drill': 5,\n",
       "         \"classic swedish pop'\": 2,\n",
       "         \"britpop'\": 5,\n",
       "         'asbury park indie': 1,\n",
       "         'soul flow': 1,\n",
       "         \"modern southern rock'\": 2,\n",
       "         \"dubstep product'\": 3,\n",
       "         'bardcore': 1,\n",
       "         \"nyc rap'\": 13,\n",
       "         'celtic punk': 2,\n",
       "         'deep east coast hip hop': 5,\n",
       "         \"classical mezzo-soprano'\": 14,\n",
       "         \"country rap'\": 3,\n",
       "         'new jersey punk': 1,\n",
       "         \"psychedelic trance'\": 3,\n",
       "         'double drumming': 5,\n",
       "         'cowpunk': 8,\n",
       "         'indie folk': 22,\n",
       "         'deep new americana': 17,\n",
       "         'candy pop': 19,\n",
       "         \"electropop'\": 4,\n",
       "         \"dream pop'\": 2,\n",
       "         \"brill building pop'\": 15,\n",
       "         'pop rock': 7,\n",
       "         'scottish americana': 1,\n",
       "         \"deep new wave'\": 4,\n",
       "         \"instrumental bluegrass'\": 2,\n",
       "         'modern blues rock': 4,\n",
       "         \"british blues'\": 3,\n",
       "         \"classic hardstyle'\": 3,\n",
       "         'antiviral pop': 12,\n",
       "         'svensk progg': 2,\n",
       "         'deep acoustic pop': 1,\n",
       "         \"classical baritone'\": 8,\n",
       "         'contemporary post-bop': 8,\n",
       "         \"jazz saxophone'\": 13,\n",
       "         \"jazz double bass'\": 11,\n",
       "         \"big band'\": 11,\n",
       "         'classic rock': 26,\n",
       "         'christian relaxative': 12,\n",
       "         'rock-and-roll': 10,\n",
       "         \"parody'\": 1,\n",
       "         \"shanty'\": 13,\n",
       "         \"detroit rock'\": 4,\n",
       "         \"lounge'\": 8,\n",
       "         'bakersfield sound': 13,\n",
       "         \"souldies'\": 4,\n",
       "         'halloween': 1,\n",
       "         \"deep southern soul'\": 3,\n",
       "         \"country rock'\": 7,\n",
       "         'boogaloo': 17,\n",
       "         'doo-wop': 21,\n",
       "         'motown': 10,\n",
       "         \"adult standards'\": 7,\n",
       "         'bluegrass fiddle': 2,\n",
       "         \"early american folk'\": 3,\n",
       "         'rockabilly': 7,\n",
       "         \"rockabilly'\": 2,\n",
       "         \"a cappella'\": 3,\n",
       "         \"theme'\": 6,\n",
       "         'finnish soul': 1,\n",
       "         'norteno': 8,\n",
       "         'nyc rap': 5,\n",
       "         \"cabaret'\": 8,\n",
       "         'classic italian folk pop': 1,\n",
       "         'deep disco': 19,\n",
       "         'british death metal': 1,\n",
       "         'carnatic': 10,\n",
       "         'eau claire indie': 1,\n",
       "         'italian bass': 1,\n",
       "         \"chill r&b'\": 4,\n",
       "         \"vintage spanish pop'\": 7,\n",
       "         'german hip hop': 1,\n",
       "         'pibroch': 1,\n",
       "         \"candy pop'\": 5,\n",
       "         'german house': 5,\n",
       "         \"children's music\": 18,\n",
       "         \"croatian folk'\": 1,\n",
       "         'epicore': 8,\n",
       "         \"reggae fusion'\": 11,\n",
       "         'boston punk': 3,\n",
       "         'haitian dance': 1,\n",
       "         \"old school hard trance'\": 1,\n",
       "         \"chanson'\": 16,\n",
       "         \"basshall'\": 2,\n",
       "         'neo mellow': 28,\n",
       "         \"xhosa'\": 1,\n",
       "         'melodic hardcore': 16,\n",
       "         'traditional country': 1,\n",
       "         \"dark hardcore'\": 1,\n",
       "         \"p funk'\": 3,\n",
       "         \"cymraeg'\": 1,\n",
       "         \"electronic trap'\": 2,\n",
       "         \"epicore'\": 4,\n",
       "         \"jazz quartet'\": 8,\n",
       "         'instrumental stoner rock': 1,\n",
       "         'australian metal': 1,\n",
       "         'glitch hop': 1,\n",
       "         'classic polish pop': 2,\n",
       "         'dmv rap': 4,\n",
       "         ...})"
      ]
     },
     "execution_count": 102,
     "metadata": {},
     "output_type": "execute_result"
    }
   ],
   "source": [
    "ls=[]\n",
    "for i in data_raw_large[\"genres\"]:\n",
    "    words = i.split(\",\")\n",
    "    ls.append(words[0][2:-1])\n",
    "collections.Counter(ls)\n"
   ]
  },
  {
   "cell_type": "markdown",
   "metadata": {},
   "source": [
    "Since the genres are too complicated and various in the first database, the classifier will be inefficient to identify so many groups. We will choose some popular music genres in the following dataset."
   ]
  },
  {
   "cell_type": "markdown",
   "metadata": {},
   "source": [
    "## Database 2"
   ]
  },
  {
   "cell_type": "code",
   "execution_count": 103,
   "metadata": {},
   "outputs": [],
   "source": [
    "data_raw = pd.read_csv(path_to_data)"
   ]
  },
  {
   "cell_type": "code",
   "execution_count": 104,
   "metadata": {},
   "outputs": [
    {
     "data": {
      "text/html": [
       "<div>\n",
       "<style scoped>\n",
       "    .dataframe tbody tr th:only-of-type {\n",
       "        vertical-align: middle;\n",
       "    }\n",
       "\n",
       "    .dataframe tbody tr th {\n",
       "        vertical-align: top;\n",
       "    }\n",
       "\n",
       "    .dataframe thead th {\n",
       "        text-align: right;\n",
       "    }\n",
       "</style>\n",
       "<table border=\"1\" class=\"dataframe\">\n",
       "  <thead>\n",
       "    <tr style=\"text-align: right;\">\n",
       "      <th></th>\n",
       "      <th>0</th>\n",
       "      <th>1</th>\n",
       "      <th>2</th>\n",
       "      <th>3</th>\n",
       "      <th>4</th>\n",
       "    </tr>\n",
       "  </thead>\n",
       "  <tbody>\n",
       "    <tr>\n",
       "      <th>danceability</th>\n",
       "      <td>0.831</td>\n",
       "      <td>0.719</td>\n",
       "      <td>0.85</td>\n",
       "      <td>0.476</td>\n",
       "      <td>0.798</td>\n",
       "    </tr>\n",
       "    <tr>\n",
       "      <th>energy</th>\n",
       "      <td>0.814</td>\n",
       "      <td>0.493</td>\n",
       "      <td>0.893</td>\n",
       "      <td>0.781</td>\n",
       "      <td>0.624</td>\n",
       "    </tr>\n",
       "    <tr>\n",
       "      <th>key</th>\n",
       "      <td>2</td>\n",
       "      <td>8</td>\n",
       "      <td>5</td>\n",
       "      <td>0</td>\n",
       "      <td>2</td>\n",
       "    </tr>\n",
       "    <tr>\n",
       "      <th>loudness</th>\n",
       "      <td>-7.364</td>\n",
       "      <td>-7.23</td>\n",
       "      <td>-4.783</td>\n",
       "      <td>-4.71</td>\n",
       "      <td>-7.668</td>\n",
       "    </tr>\n",
       "    <tr>\n",
       "      <th>mode</th>\n",
       "      <td>1</td>\n",
       "      <td>1</td>\n",
       "      <td>1</td>\n",
       "      <td>1</td>\n",
       "      <td>1</td>\n",
       "    </tr>\n",
       "    <tr>\n",
       "      <th>speechiness</th>\n",
       "      <td>0.42</td>\n",
       "      <td>0.0794</td>\n",
       "      <td>0.0623</td>\n",
       "      <td>0.103</td>\n",
       "      <td>0.293</td>\n",
       "    </tr>\n",
       "    <tr>\n",
       "      <th>acousticness</th>\n",
       "      <td>0.0598</td>\n",
       "      <td>0.401</td>\n",
       "      <td>0.0138</td>\n",
       "      <td>0.0237</td>\n",
       "      <td>0.217</td>\n",
       "    </tr>\n",
       "    <tr>\n",
       "      <th>instrumentalness</th>\n",
       "      <td>0.0134</td>\n",
       "      <td>0</td>\n",
       "      <td>4.14e-06</td>\n",
       "      <td>0</td>\n",
       "      <td>0</td>\n",
       "    </tr>\n",
       "    <tr>\n",
       "      <th>liveness</th>\n",
       "      <td>0.0556</td>\n",
       "      <td>0.118</td>\n",
       "      <td>0.372</td>\n",
       "      <td>0.114</td>\n",
       "      <td>0.166</td>\n",
       "    </tr>\n",
       "    <tr>\n",
       "      <th>valence</th>\n",
       "      <td>0.389</td>\n",
       "      <td>0.124</td>\n",
       "      <td>0.0391</td>\n",
       "      <td>0.175</td>\n",
       "      <td>0.591</td>\n",
       "    </tr>\n",
       "    <tr>\n",
       "      <th>tempo</th>\n",
       "      <td>156.985</td>\n",
       "      <td>115.08</td>\n",
       "      <td>218.05</td>\n",
       "      <td>186.948</td>\n",
       "      <td>147.988</td>\n",
       "    </tr>\n",
       "    <tr>\n",
       "      <th>type</th>\n",
       "      <td>audio_features</td>\n",
       "      <td>audio_features</td>\n",
       "      <td>audio_features</td>\n",
       "      <td>audio_features</td>\n",
       "      <td>audio_features</td>\n",
       "    </tr>\n",
       "    <tr>\n",
       "      <th>id</th>\n",
       "      <td>2Vc6NJ9PW9gD9q343XFRKx</td>\n",
       "      <td>7pgJBLVz5VmnL7uGHmRj6p</td>\n",
       "      <td>0vSWgAlfpye0WCGeNmuNhy</td>\n",
       "      <td>0VSXnJqQkwuH2ei1nOQ1nu</td>\n",
       "      <td>4jCeguq9rMTlbMmPHuO7S3</td>\n",
       "    </tr>\n",
       "    <tr>\n",
       "      <th>uri</th>\n",
       "      <td>spotify:track:2Vc6NJ9PW9gD9q343XFRKx</td>\n",
       "      <td>spotify:track:7pgJBLVz5VmnL7uGHmRj6p</td>\n",
       "      <td>spotify:track:0vSWgAlfpye0WCGeNmuNhy</td>\n",
       "      <td>spotify:track:0VSXnJqQkwuH2ei1nOQ1nu</td>\n",
       "      <td>spotify:track:4jCeguq9rMTlbMmPHuO7S3</td>\n",
       "    </tr>\n",
       "    <tr>\n",
       "      <th>track_href</th>\n",
       "      <td>https://api.spotify.com/v1/tracks/2Vc6NJ9PW9gD...</td>\n",
       "      <td>https://api.spotify.com/v1/tracks/7pgJBLVz5Vmn...</td>\n",
       "      <td>https://api.spotify.com/v1/tracks/0vSWgAlfpye0...</td>\n",
       "      <td>https://api.spotify.com/v1/tracks/0VSXnJqQkwuH...</td>\n",
       "      <td>https://api.spotify.com/v1/tracks/4jCeguq9rMTl...</td>\n",
       "    </tr>\n",
       "    <tr>\n",
       "      <th>analysis_url</th>\n",
       "      <td>https://api.spotify.com/v1/audio-analysis/2Vc6...</td>\n",
       "      <td>https://api.spotify.com/v1/audio-analysis/7pgJ...</td>\n",
       "      <td>https://api.spotify.com/v1/audio-analysis/0vSW...</td>\n",
       "      <td>https://api.spotify.com/v1/audio-analysis/0VSX...</td>\n",
       "      <td>https://api.spotify.com/v1/audio-analysis/4jCe...</td>\n",
       "    </tr>\n",
       "    <tr>\n",
       "      <th>duration_ms</th>\n",
       "      <td>124539</td>\n",
       "      <td>224427</td>\n",
       "      <td>98821</td>\n",
       "      <td>123661</td>\n",
       "      <td>123298</td>\n",
       "    </tr>\n",
       "    <tr>\n",
       "      <th>time_signature</th>\n",
       "      <td>4</td>\n",
       "      <td>4</td>\n",
       "      <td>4</td>\n",
       "      <td>3</td>\n",
       "      <td>4</td>\n",
       "    </tr>\n",
       "    <tr>\n",
       "      <th>genre</th>\n",
       "      <td>Dark Trap</td>\n",
       "      <td>Dark Trap</td>\n",
       "      <td>Dark Trap</td>\n",
       "      <td>Dark Trap</td>\n",
       "      <td>Dark Trap</td>\n",
       "    </tr>\n",
       "    <tr>\n",
       "      <th>song_name</th>\n",
       "      <td>Mercury: Retrograde</td>\n",
       "      <td>Pathology</td>\n",
       "      <td>Symbiote</td>\n",
       "      <td>ProductOfDrugs (Prod. The Virus and Antidote)</td>\n",
       "      <td>Venom</td>\n",
       "    </tr>\n",
       "    <tr>\n",
       "      <th>Unnamed: 0</th>\n",
       "      <td>NaN</td>\n",
       "      <td>NaN</td>\n",
       "      <td>NaN</td>\n",
       "      <td>NaN</td>\n",
       "      <td>NaN</td>\n",
       "    </tr>\n",
       "    <tr>\n",
       "      <th>title</th>\n",
       "      <td>NaN</td>\n",
       "      <td>NaN</td>\n",
       "      <td>NaN</td>\n",
       "      <td>NaN</td>\n",
       "      <td>NaN</td>\n",
       "    </tr>\n",
       "  </tbody>\n",
       "</table>\n",
       "</div>"
      ],
      "text/plain": [
       "                                                                  0  \\\n",
       "danceability                                                  0.831   \n",
       "energy                                                        0.814   \n",
       "key                                                               2   \n",
       "loudness                                                     -7.364   \n",
       "mode                                                              1   \n",
       "speechiness                                                    0.42   \n",
       "acousticness                                                 0.0598   \n",
       "instrumentalness                                             0.0134   \n",
       "liveness                                                     0.0556   \n",
       "valence                                                       0.389   \n",
       "tempo                                                       156.985   \n",
       "type                                                 audio_features   \n",
       "id                                           2Vc6NJ9PW9gD9q343XFRKx   \n",
       "uri                            spotify:track:2Vc6NJ9PW9gD9q343XFRKx   \n",
       "track_href        https://api.spotify.com/v1/tracks/2Vc6NJ9PW9gD...   \n",
       "analysis_url      https://api.spotify.com/v1/audio-analysis/2Vc6...   \n",
       "duration_ms                                                  124539   \n",
       "time_signature                                                    4   \n",
       "genre                                                     Dark Trap   \n",
       "song_name                                       Mercury: Retrograde   \n",
       "Unnamed: 0                                                      NaN   \n",
       "title                                                           NaN   \n",
       "\n",
       "                                                                  1  \\\n",
       "danceability                                                  0.719   \n",
       "energy                                                        0.493   \n",
       "key                                                               8   \n",
       "loudness                                                      -7.23   \n",
       "mode                                                              1   \n",
       "speechiness                                                  0.0794   \n",
       "acousticness                                                  0.401   \n",
       "instrumentalness                                                  0   \n",
       "liveness                                                      0.118   \n",
       "valence                                                       0.124   \n",
       "tempo                                                        115.08   \n",
       "type                                                 audio_features   \n",
       "id                                           7pgJBLVz5VmnL7uGHmRj6p   \n",
       "uri                            spotify:track:7pgJBLVz5VmnL7uGHmRj6p   \n",
       "track_href        https://api.spotify.com/v1/tracks/7pgJBLVz5Vmn...   \n",
       "analysis_url      https://api.spotify.com/v1/audio-analysis/7pgJ...   \n",
       "duration_ms                                                  224427   \n",
       "time_signature                                                    4   \n",
       "genre                                                     Dark Trap   \n",
       "song_name                                                 Pathology   \n",
       "Unnamed: 0                                                      NaN   \n",
       "title                                                           NaN   \n",
       "\n",
       "                                                                  2  \\\n",
       "danceability                                                   0.85   \n",
       "energy                                                        0.893   \n",
       "key                                                               5   \n",
       "loudness                                                     -4.783   \n",
       "mode                                                              1   \n",
       "speechiness                                                  0.0623   \n",
       "acousticness                                                 0.0138   \n",
       "instrumentalness                                           4.14e-06   \n",
       "liveness                                                      0.372   \n",
       "valence                                                      0.0391   \n",
       "tempo                                                        218.05   \n",
       "type                                                 audio_features   \n",
       "id                                           0vSWgAlfpye0WCGeNmuNhy   \n",
       "uri                            spotify:track:0vSWgAlfpye0WCGeNmuNhy   \n",
       "track_href        https://api.spotify.com/v1/tracks/0vSWgAlfpye0...   \n",
       "analysis_url      https://api.spotify.com/v1/audio-analysis/0vSW...   \n",
       "duration_ms                                                   98821   \n",
       "time_signature                                                    4   \n",
       "genre                                                     Dark Trap   \n",
       "song_name                                                  Symbiote   \n",
       "Unnamed: 0                                                      NaN   \n",
       "title                                                           NaN   \n",
       "\n",
       "                                                                  3  \\\n",
       "danceability                                                  0.476   \n",
       "energy                                                        0.781   \n",
       "key                                                               0   \n",
       "loudness                                                      -4.71   \n",
       "mode                                                              1   \n",
       "speechiness                                                   0.103   \n",
       "acousticness                                                 0.0237   \n",
       "instrumentalness                                                  0   \n",
       "liveness                                                      0.114   \n",
       "valence                                                       0.175   \n",
       "tempo                                                       186.948   \n",
       "type                                                 audio_features   \n",
       "id                                           0VSXnJqQkwuH2ei1nOQ1nu   \n",
       "uri                            spotify:track:0VSXnJqQkwuH2ei1nOQ1nu   \n",
       "track_href        https://api.spotify.com/v1/tracks/0VSXnJqQkwuH...   \n",
       "analysis_url      https://api.spotify.com/v1/audio-analysis/0VSX...   \n",
       "duration_ms                                                  123661   \n",
       "time_signature                                                    3   \n",
       "genre                                                     Dark Trap   \n",
       "song_name             ProductOfDrugs (Prod. The Virus and Antidote)   \n",
       "Unnamed: 0                                                      NaN   \n",
       "title                                                           NaN   \n",
       "\n",
       "                                                                  4  \n",
       "danceability                                                  0.798  \n",
       "energy                                                        0.624  \n",
       "key                                                               2  \n",
       "loudness                                                     -7.668  \n",
       "mode                                                              1  \n",
       "speechiness                                                   0.293  \n",
       "acousticness                                                  0.217  \n",
       "instrumentalness                                                  0  \n",
       "liveness                                                      0.166  \n",
       "valence                                                       0.591  \n",
       "tempo                                                       147.988  \n",
       "type                                                 audio_features  \n",
       "id                                           4jCeguq9rMTlbMmPHuO7S3  \n",
       "uri                            spotify:track:4jCeguq9rMTlbMmPHuO7S3  \n",
       "track_href        https://api.spotify.com/v1/tracks/4jCeguq9rMTl...  \n",
       "analysis_url      https://api.spotify.com/v1/audio-analysis/4jCe...  \n",
       "duration_ms                                                  123298  \n",
       "time_signature                                                    4  \n",
       "genre                                                     Dark Trap  \n",
       "song_name                                                     Venom  \n",
       "Unnamed: 0                                                      NaN  \n",
       "title                                                           NaN  "
      ]
     },
     "execution_count": 104,
     "metadata": {},
     "output_type": "execute_result"
    }
   ],
   "source": [
    "data_raw.head().T"
   ]
  },
  {
   "cell_type": "code",
   "execution_count": 105,
   "metadata": {},
   "outputs": [],
   "source": [
    "data_backup = data_raw.copy()"
   ]
  },
  {
   "cell_type": "code",
   "execution_count": 106,
   "metadata": {},
   "outputs": [],
   "source": [
    "data = data_raw.drop([\"id\",\"uri\",\"track_href\",\"analysis_url\",\"song_name\",\"Unnamed: 0\",\"title\",\"type\"],axis=1)"
   ]
  },
  {
   "cell_type": "code",
   "execution_count": 107,
   "metadata": {},
   "outputs": [
    {
     "data": {
      "text/plain": [
       "array(['Dark Trap', 'Underground Rap', 'Trap Metal', 'Emo', 'Rap', 'RnB', 'Pop', 'Hiphop', 'techhouse',\n",
       "       'techno', 'trance', 'psytrance', 'trap', 'dnb', 'hardstyle'], dtype=object)"
      ]
     },
     "execution_count": 107,
     "metadata": {},
     "output_type": "execute_result"
    }
   ],
   "source": [
    "data[\"genre\"].unique()"
   ]
  },
  {
   "cell_type": "code",
   "execution_count": 108,
   "metadata": {},
   "outputs": [
    {
     "data": {
      "text/plain": [
       "<AxesSubplot:>"
      ]
     },
     "execution_count": 108,
     "metadata": {},
     "output_type": "execute_result"
    },
    {
     "data": {
      "image/png": "[encoded data removed]",
      "text/plain": [
       "<Figure size 432x288 with 1 Axes>"
      ]
     },
     "metadata": {
      "needs_background": "light"
     },
     "output_type": "display_data"
    }
   ],
   "source": [
    "data[\"genre\"].value_counts().plot(kind=\"bar\")"
   ]
  },
  {
   "cell_type": "code",
   "execution_count": 109,
   "metadata": {},
   "outputs": [
    {
     "data": {
      "text/plain": [
       "danceability        float64\n",
       "energy              float64\n",
       "key                   int64\n",
       "loudness            float64\n",
       "mode                  int64\n",
       "speechiness         float64\n",
       "acousticness        float64\n",
       "instrumentalness    float64\n",
       "liveness            float64\n",
       "valence             float64\n",
       "tempo               float64\n",
       "duration_ms           int64\n",
       "time_signature        int64\n",
       "genre                object\n",
       "dtype: object"
      ]
     },
     "execution_count": 109,
     "metadata": {},
     "output_type": "execute_result"
    }
   ],
   "source": [
    "data.dtypes"
   ]
  },
  {
   "cell_type": "code",
   "execution_count": 110,
   "metadata": {},
   "outputs": [
    {
     "data": {
      "text/plain": [
       "danceability        0\n",
       "energy              0\n",
       "key                 0\n",
       "loudness            0\n",
       "mode                0\n",
       "speechiness         0\n",
       "acousticness        0\n",
       "instrumentalness    0\n",
       "liveness            0\n",
       "valence             0\n",
       "tempo               0\n",
       "duration_ms         0\n",
       "time_signature      0\n",
       "genre               0\n",
       "dtype: int64"
      ]
     },
     "execution_count": 110,
     "metadata": {},
     "output_type": "execute_result"
    }
   ],
   "source": [
    "data.isna().sum()"
   ]
  },
  {
   "cell_type": "code",
   "execution_count": 111,
   "metadata": {},
   "outputs": [],
   "source": [
    "data = sklearn.utils.shuffle(data)"
   ]
  },
  {
   "cell_type": "code",
   "execution_count": 112,
   "metadata": {},
   "outputs": [
    {
     "data": {
      "text/html": [
       "<div>\n",
       "<style scoped>\n",
       "    .dataframe tbody tr th:only-of-type {\n",
       "        vertical-align: middle;\n",
       "    }\n",
       "\n",
       "    .dataframe tbody tr th {\n",
       "        vertical-align: top;\n",
       "    }\n",
       "\n",
       "    .dataframe thead th {\n",
       "        text-align: right;\n",
       "    }\n",
       "</style>\n",
       "<table border=\"1\" class=\"dataframe\">\n",
       "  <thead>\n",
       "    <tr style=\"text-align: right;\">\n",
       "      <th></th>\n",
       "      <th>10793</th>\n",
       "      <th>28580</th>\n",
       "      <th>8043</th>\n",
       "      <th>17747</th>\n",
       "      <th>2823</th>\n",
       "    </tr>\n",
       "  </thead>\n",
       "  <tbody>\n",
       "    <tr>\n",
       "      <th>danceability</th>\n",
       "      <td>0.463</td>\n",
       "      <td>0.377</td>\n",
       "      <td>0.768</td>\n",
       "      <td>0.686</td>\n",
       "      <td>0.687</td>\n",
       "    </tr>\n",
       "    <tr>\n",
       "      <th>energy</th>\n",
       "      <td>0.362</td>\n",
       "      <td>0.982</td>\n",
       "      <td>0.648</td>\n",
       "      <td>0.588</td>\n",
       "      <td>0.835</td>\n",
       "    </tr>\n",
       "    <tr>\n",
       "      <th>key</th>\n",
       "      <td>6</td>\n",
       "      <td>6</td>\n",
       "      <td>11</td>\n",
       "      <td>7</td>\n",
       "      <td>11</td>\n",
       "    </tr>\n",
       "    <tr>\n",
       "      <th>loudness</th>\n",
       "      <td>-8.533</td>\n",
       "      <td>-11.328</td>\n",
       "      <td>-6.042</td>\n",
       "      <td>-8.343</td>\n",
       "      <td>-6.033</td>\n",
       "    </tr>\n",
       "    <tr>\n",
       "      <th>mode</th>\n",
       "      <td>1</td>\n",
       "      <td>0</td>\n",
       "      <td>0</td>\n",
       "      <td>0</td>\n",
       "      <td>0</td>\n",
       "    </tr>\n",
       "    <tr>\n",
       "      <th>speechiness</th>\n",
       "      <td>0.143</td>\n",
       "      <td>0.0666</td>\n",
       "      <td>0.188</td>\n",
       "      <td>0.0554</td>\n",
       "      <td>0.0387</td>\n",
       "    </tr>\n",
       "    <tr>\n",
       "      <th>acousticness</th>\n",
       "      <td>0.203</td>\n",
       "      <td>4.93e-06</td>\n",
       "      <td>0.045</td>\n",
       "      <td>0.178</td>\n",
       "      <td>0.486</td>\n",
       "    </tr>\n",
       "    <tr>\n",
       "      <th>instrumentalness</th>\n",
       "      <td>0.0795</td>\n",
       "      <td>0.901</td>\n",
       "      <td>2.9e-05</td>\n",
       "      <td>0</td>\n",
       "      <td>0.92</td>\n",
       "    </tr>\n",
       "    <tr>\n",
       "      <th>liveness</th>\n",
       "      <td>0.1</td>\n",
       "      <td>0.262</td>\n",
       "      <td>0.113</td>\n",
       "      <td>0.0954</td>\n",
       "      <td>0.106</td>\n",
       "    </tr>\n",
       "    <tr>\n",
       "      <th>valence</th>\n",
       "      <td>0.0576</td>\n",
       "      <td>0.111</td>\n",
       "      <td>0.358</td>\n",
       "      <td>0.617</td>\n",
       "      <td>0.347</td>\n",
       "    </tr>\n",
       "    <tr>\n",
       "      <th>tempo</th>\n",
       "      <td>174.012</td>\n",
       "      <td>137.946</td>\n",
       "      <td>194.026</td>\n",
       "      <td>189.038</td>\n",
       "      <td>132.022</td>\n",
       "    </tr>\n",
       "    <tr>\n",
       "      <th>duration_ms</th>\n",
       "      <td>175052</td>\n",
       "      <td>277400</td>\n",
       "      <td>188040</td>\n",
       "      <td>249120</td>\n",
       "      <td>174545</td>\n",
       "    </tr>\n",
       "    <tr>\n",
       "      <th>time_signature</th>\n",
       "      <td>4</td>\n",
       "      <td>4</td>\n",
       "      <td>4</td>\n",
       "      <td>4</td>\n",
       "      <td>4</td>\n",
       "    </tr>\n",
       "    <tr>\n",
       "      <th>genre</th>\n",
       "      <td>Trap Metal</td>\n",
       "      <td>trance</td>\n",
       "      <td>Underground Rap</td>\n",
       "      <td>RnB</td>\n",
       "      <td>Dark Trap</td>\n",
       "    </tr>\n",
       "  </tbody>\n",
       "</table>\n",
       "</div>"
      ],
      "text/plain": [
       "                       10793     28580            8043     17747      2823 \n",
       "danceability           0.463     0.377            0.768    0.686      0.687\n",
       "energy                 0.362     0.982            0.648    0.588      0.835\n",
       "key                        6         6               11        7         11\n",
       "loudness              -8.533   -11.328           -6.042   -8.343     -6.033\n",
       "mode                       1         0                0        0          0\n",
       "speechiness            0.143    0.0666            0.188   0.0554     0.0387\n",
       "acousticness           0.203  4.93e-06            0.045    0.178      0.486\n",
       "instrumentalness      0.0795     0.901          2.9e-05        0       0.92\n",
       "liveness                 0.1     0.262            0.113   0.0954      0.106\n",
       "valence               0.0576     0.111            0.358    0.617      0.347\n",
       "tempo                174.012   137.946          194.026  189.038    132.022\n",
       "duration_ms           175052    277400           188040   249120     174545\n",
       "time_signature             4         4                4        4          4\n",
       "genre             Trap Metal    trance  Underground Rap      RnB  Dark Trap"
      ]
     },
     "execution_count": 112,
     "metadata": {},
     "output_type": "execute_result"
    }
   ],
   "source": [
    "data.head().T"
   ]
  },
  {
   "cell_type": "code",
   "execution_count": 113,
   "metadata": {},
   "outputs": [
    {
     "data": {
      "text/plain": [
       "(42305, 14)"
      ]
     },
     "execution_count": 113,
     "metadata": {},
     "output_type": "execute_result"
    }
   ],
   "source": [
    "data.shape"
   ]
  },
  {
   "cell_type": "code",
   "execution_count": 114,
   "metadata": {},
   "outputs": [],
   "source": [
    "train_cats(data)"
   ]
  },
  {
   "cell_type": "code",
   "execution_count": 115,
   "metadata": {},
   "outputs": [
    {
     "data": {
      "text/plain": [
       "10793         Trap Metal\n",
       "28580             trance\n",
       "8043     Underground Rap\n",
       "17747                RnB\n",
       "2823           Dark Trap\n",
       "              ...       \n",
       "30104             trance\n",
       "3150           Dark Trap\n",
       "31334          psytrance\n",
       "25401             techno\n",
       "3718           Dark Trap\n",
       "Name: genre, Length: 42305, dtype: category\n",
       "Categories (15, object): ['Dark Trap' < 'Emo' < 'Hiphop' < 'Pop' ... 'techhouse' < 'techno' < 'trance' < 'trap']"
      ]
     },
     "execution_count": 115,
     "metadata": {},
     "output_type": "execute_result"
    }
   ],
   "source": [
    "data.genre"
   ]
  },
  {
   "cell_type": "code",
   "execution_count": 116,
   "metadata": {},
   "outputs": [
    {
     "data": {
      "text/plain": [
       "['Dark Trap',\n",
       " 'Emo',\n",
       " 'Hiphop',\n",
       " 'Pop',\n",
       " 'Rap',\n",
       " 'RnB',\n",
       " 'Trap Metal',\n",
       " 'Underground Rap',\n",
       " 'dnb',\n",
       " 'hardstyle',\n",
       " 'psytrance',\n",
       " 'techhouse',\n",
       " 'techno',\n",
       " 'trance',\n",
       " 'trap']"
      ]
     },
     "execution_count": 116,
     "metadata": {},
     "output_type": "execute_result"
    }
   ],
   "source": [
    "genre = data.genre.cat.categories.tolist()\n",
    "genre"
   ]
  },
  {
   "cell_type": "code",
   "execution_count": 117,
   "metadata": {},
   "outputs": [
    {
     "data": {
      "text/plain": [
       "[6, 13, 7, 5, 0, 11, 14, 10, 12, 2, 8, 4, 3, 9, 1]"
      ]
     },
     "execution_count": 117,
     "metadata": {},
     "output_type": "execute_result"
    }
   ],
   "source": [
    "genre_code = data.genre.cat.codes.unique().tolist()\n",
    "genre_code"
   ]
  },
  {
   "cell_type": "code",
   "execution_count": 118,
   "metadata": {},
   "outputs": [
    {
     "data": {
      "text/plain": [
       "{6: 'Dark Trap',\n",
       " 13: 'Emo',\n",
       " 7: 'Hiphop',\n",
       " 5: 'Pop',\n",
       " 0: 'Rap',\n",
       " 11: 'RnB',\n",
       " 14: 'Trap Metal',\n",
       " 10: 'Underground Rap',\n",
       " 12: 'dnb',\n",
       " 2: 'hardstyle',\n",
       " 8: 'psytrance',\n",
       " 4: 'techhouse',\n",
       " 3: 'techno',\n",
       " 9: 'trance',\n",
       " 1: 'trap'}"
      ]
     },
     "execution_count": 118,
     "metadata": {},
     "output_type": "execute_result"
    }
   ],
   "source": [
    "dict_genre = {}\n",
    "for i in range(len(data.genre.cat.categories.tolist())):\n",
    "    dict_genre[genre_code[i]] = genre[i]\n",
    "dict_genre"
   ]
  },
  {
   "cell_type": "code",
   "execution_count": 119,
   "metadata": {},
   "outputs": [],
   "source": [
    "data.genre = data.genre.cat.codes"
   ]
  },
  {
   "cell_type": "code",
   "execution_count": 120,
   "metadata": {},
   "outputs": [
    {
     "data": {
      "text/html": [
       "<div>\n",
       "<style scoped>\n",
       "    .dataframe tbody tr th:only-of-type {\n",
       "        vertical-align: middle;\n",
       "    }\n",
       "\n",
       "    .dataframe tbody tr th {\n",
       "        vertical-align: top;\n",
       "    }\n",
       "\n",
       "    .dataframe thead th {\n",
       "        text-align: right;\n",
       "    }\n",
       "</style>\n",
       "<table border=\"1\" class=\"dataframe\">\n",
       "  <thead>\n",
       "    <tr style=\"text-align: right;\">\n",
       "      <th></th>\n",
       "      <th>10793</th>\n",
       "      <th>28580</th>\n",
       "      <th>8043</th>\n",
       "      <th>17747</th>\n",
       "      <th>2823</th>\n",
       "    </tr>\n",
       "  </thead>\n",
       "  <tbody>\n",
       "    <tr>\n",
       "      <th>danceability</th>\n",
       "      <td>0.4630</td>\n",
       "      <td>0.377000</td>\n",
       "      <td>0.768000</td>\n",
       "      <td>0.6860</td>\n",
       "      <td>0.6870</td>\n",
       "    </tr>\n",
       "    <tr>\n",
       "      <th>energy</th>\n",
       "      <td>0.3620</td>\n",
       "      <td>0.982000</td>\n",
       "      <td>0.648000</td>\n",
       "      <td>0.5880</td>\n",
       "      <td>0.8350</td>\n",
       "    </tr>\n",
       "    <tr>\n",
       "      <th>key</th>\n",
       "      <td>6.0000</td>\n",
       "      <td>6.000000</td>\n",
       "      <td>11.000000</td>\n",
       "      <td>7.0000</td>\n",
       "      <td>11.0000</td>\n",
       "    </tr>\n",
       "    <tr>\n",
       "      <th>loudness</th>\n",
       "      <td>-8.5330</td>\n",
       "      <td>-11.328000</td>\n",
       "      <td>-6.042000</td>\n",
       "      <td>-8.3430</td>\n",
       "      <td>-6.0330</td>\n",
       "    </tr>\n",
       "    <tr>\n",
       "      <th>mode</th>\n",
       "      <td>1.0000</td>\n",
       "      <td>0.000000</td>\n",
       "      <td>0.000000</td>\n",
       "      <td>0.0000</td>\n",
       "      <td>0.0000</td>\n",
       "    </tr>\n",
       "    <tr>\n",
       "      <th>speechiness</th>\n",
       "      <td>0.1430</td>\n",
       "      <td>0.066600</td>\n",
       "      <td>0.188000</td>\n",
       "      <td>0.0554</td>\n",
       "      <td>0.0387</td>\n",
       "    </tr>\n",
       "    <tr>\n",
       "      <th>acousticness</th>\n",
       "      <td>0.2030</td>\n",
       "      <td>0.000005</td>\n",
       "      <td>0.045000</td>\n",
       "      <td>0.1780</td>\n",
       "      <td>0.4860</td>\n",
       "    </tr>\n",
       "    <tr>\n",
       "      <th>instrumentalness</th>\n",
       "      <td>0.0795</td>\n",
       "      <td>0.901000</td>\n",
       "      <td>0.000029</td>\n",
       "      <td>0.0000</td>\n",
       "      <td>0.9200</td>\n",
       "    </tr>\n",
       "    <tr>\n",
       "      <th>liveness</th>\n",
       "      <td>0.1000</td>\n",
       "      <td>0.262000</td>\n",
       "      <td>0.113000</td>\n",
       "      <td>0.0954</td>\n",
       "      <td>0.1060</td>\n",
       "    </tr>\n",
       "    <tr>\n",
       "      <th>valence</th>\n",
       "      <td>0.0576</td>\n",
       "      <td>0.111000</td>\n",
       "      <td>0.358000</td>\n",
       "      <td>0.6170</td>\n",
       "      <td>0.3470</td>\n",
       "    </tr>\n",
       "    <tr>\n",
       "      <th>tempo</th>\n",
       "      <td>174.0120</td>\n",
       "      <td>137.946000</td>\n",
       "      <td>194.026000</td>\n",
       "      <td>189.0380</td>\n",
       "      <td>132.0220</td>\n",
       "    </tr>\n",
       "    <tr>\n",
       "      <th>duration_ms</th>\n",
       "      <td>175052.0000</td>\n",
       "      <td>277400.000000</td>\n",
       "      <td>188040.000000</td>\n",
       "      <td>249120.0000</td>\n",
       "      <td>174545.0000</td>\n",
       "    </tr>\n",
       "    <tr>\n",
       "      <th>time_signature</th>\n",
       "      <td>4.0000</td>\n",
       "      <td>4.000000</td>\n",
       "      <td>4.000000</td>\n",
       "      <td>4.0000</td>\n",
       "      <td>4.0000</td>\n",
       "    </tr>\n",
       "    <tr>\n",
       "      <th>genre</th>\n",
       "      <td>6.0000</td>\n",
       "      <td>13.000000</td>\n",
       "      <td>7.000000</td>\n",
       "      <td>5.0000</td>\n",
       "      <td>0.0000</td>\n",
       "    </tr>\n",
       "  </tbody>\n",
       "</table>\n",
       "</div>"
      ],
      "text/plain": [
       "                        10793          28580          8043         17747  \\\n",
       "danceability           0.4630       0.377000       0.768000       0.6860   \n",
       "energy                 0.3620       0.982000       0.648000       0.5880   \n",
       "key                    6.0000       6.000000      11.000000       7.0000   \n",
       "loudness              -8.5330     -11.328000      -6.042000      -8.3430   \n",
       "mode                   1.0000       0.000000       0.000000       0.0000   \n",
       "speechiness            0.1430       0.066600       0.188000       0.0554   \n",
       "acousticness           0.2030       0.000005       0.045000       0.1780   \n",
       "instrumentalness       0.0795       0.901000       0.000029       0.0000   \n",
       "liveness               0.1000       0.262000       0.113000       0.0954   \n",
       "valence                0.0576       0.111000       0.358000       0.6170   \n",
       "tempo                174.0120     137.946000     194.026000     189.0380   \n",
       "duration_ms       175052.0000  277400.000000  188040.000000  249120.0000   \n",
       "time_signature         4.0000       4.000000       4.000000       4.0000   \n",
       "genre                  6.0000      13.000000       7.000000       5.0000   \n",
       "\n",
       "                        2823   \n",
       "danceability           0.6870  \n",
       "energy                 0.8350  \n",
       "key                   11.0000  \n",
       "loudness              -6.0330  \n",
       "mode                   0.0000  \n",
       "speechiness            0.0387  \n",
       "acousticness           0.4860  \n",
       "instrumentalness       0.9200  \n",
       "liveness               0.1060  \n",
       "valence                0.3470  \n",
       "tempo                132.0220  \n",
       "duration_ms       174545.0000  \n",
       "time_signature         4.0000  \n",
       "genre                  0.0000  "
      ]
     },
     "execution_count": 120,
     "metadata": {},
     "output_type": "execute_result"
    }
   ],
   "source": [
    "data.head().T"
   ]
  },
  {
   "cell_type": "code",
   "execution_count": 121,
   "metadata": {},
   "outputs": [],
   "source": [
    "def split_vals(df, n): \n",
    "    return df[:n].copy(), df[n:].copy()"
   ]
  },
  {
   "cell_type": "code",
   "execution_count": 122,
   "metadata": {},
   "outputs": [],
   "source": [
    "X = data.drop(\"genre\",axis=1)"
   ]
  },
  {
   "cell_type": "code",
   "execution_count": 123,
   "metadata": {},
   "outputs": [],
   "source": [
    "y = data.genre"
   ]
  },
  {
   "cell_type": "code",
   "execution_count": 124,
   "metadata": {},
   "outputs": [
    {
     "name": "stdout",
     "output_type": "stream",
     "text": [
      "full number of data points : 42305\n",
      "number of validation data points : 20000\n",
      "number of training data points : 22305\n",
      "number of subsampled training points : 15000\n"
     ]
    }
   ],
   "source": [
    "n_total = len(data)\n",
    "n_valid = 20000  # same as Kaggle's test set size\n",
    "n_train = n_total - n_valid\n",
    "n_small = 15000\n",
    "\n",
    "print('full number of data points : {}'.format(n_total))\n",
    "print('number of validation data points : {}'.format(n_valid))\n",
    "print('number of training data points : {}'.format(n_train))\n",
    "print('number of subsampled training points : {}'.format(n_small))"
   ]
  },
  {
   "cell_type": "code",
   "execution_count": 125,
   "metadata": {},
   "outputs": [
    {
     "name": "stdout",
     "output_type": "stream",
     "text": [
      "Number of small training data points: X = (15000, 13), y = (15000,)\n",
      "Number of full training data points: X = (22305, 13), y = (22305,)\n",
      "Number of validation data points: X = (20000, 13), y = (20000,)\n"
     ]
    }
   ],
   "source": [
    "X_train, X_valid = split_vals(X, n_train)\n",
    "y_train, y_valid = split_vals(y, n_train)\n",
    "\n",
    "X_small, _ = split_vals(X, n_small)\n",
    "y_small, _ = split_vals(y, n_small)\n",
    "\n",
    "print('Number of small training data points: X = {}, y = {}'.format(X_small.shape, y_small.shape))\n",
    "print('Number of full training data points: X = {}, y = {}'.format(X_train.shape, y_train.shape))\n",
    "print('Number of validation data points: X = {}, y = {}'.format(X_valid.shape, y_valid.shape))"
   ]
  },
  {
   "cell_type": "markdown",
   "metadata": {},
   "source": [
    "# Machine Learning Models (KNN & RandomForest Classifier)"
   ]
  },
  {
   "cell_type": "markdown",
   "metadata": {},
   "source": [
    "## Model 1: KNN Classifier"
   ]
  },
  {
   "cell_type": "code",
   "execution_count": 126,
   "metadata": {},
   "outputs": [],
   "source": [
    "from sklearn.neighbors import KNeighborsClassifier\n",
    "knn_model = KNeighborsClassifier()"
   ]
  },
  {
   "cell_type": "code",
   "execution_count": 127,
   "metadata": {},
   "outputs": [
    {
     "data": {
      "text/plain": [
       "array([14,  7,  7, ..., 13, 10,  2], dtype=int8)"
      ]
     },
     "execution_count": 127,
     "metadata": {},
     "output_type": "execute_result"
    }
   ],
   "source": [
    "knn_model.fit(X_train,y_train)\n",
    "knn_model.predict(X_valid)"
   ]
  },
  {
   "cell_type": "code",
   "execution_count": 128,
   "metadata": {},
   "outputs": [
    {
     "data": {
      "text/plain": [
       "0.4964357767316745"
      ]
     },
     "execution_count": 128,
     "metadata": {},
     "output_type": "execute_result"
    }
   ],
   "source": [
    "knn_model.score(X_train,y_train)\n"
   ]
  },
  {
   "cell_type": "code",
   "execution_count": 129,
   "metadata": {},
   "outputs": [
    {
     "data": {
      "text/plain": [
       "0.27835"
      ]
     },
     "execution_count": 129,
     "metadata": {},
     "output_type": "execute_result"
    }
   ],
   "source": [
    "knn_model.score(X_valid,y_valid)"
   ]
  },
  {
   "cell_type": "code",
   "execution_count": 130,
   "metadata": {},
   "outputs": [
    {
     "data": {
      "text/plain": [
       "KNeighborsClassifier()"
      ]
     },
     "execution_count": 130,
     "metadata": {},
     "output_type": "execute_result"
    }
   ],
   "source": [
    "knn_model.fit(X_small,y_small)"
   ]
  },
  {
   "cell_type": "code",
   "execution_count": 131,
   "metadata": {},
   "outputs": [
    {
     "data": {
      "text/plain": [
       "0.47713333333333335"
      ]
     },
     "execution_count": 131,
     "metadata": {},
     "output_type": "execute_result"
    }
   ],
   "source": [
    "knn_model.score(X_small,y_small)"
   ]
  },
  {
   "cell_type": "code",
   "execution_count": 132,
   "metadata": {},
   "outputs": [
    {
     "data": {
      "text/plain": [
       "0.2576"
      ]
     },
     "execution_count": 132,
     "metadata": {},
     "output_type": "execute_result"
    }
   ],
   "source": [
    "knn_model.score(X_valid,y_valid)"
   ]
  },
  {
   "cell_type": "code",
   "execution_count": 237,
   "metadata": {},
   "outputs": [],
   "source": [
    "knn_model = KNeighborsClassifier(n_neighbors=3)"
   ]
  },
  {
   "cell_type": "code",
   "execution_count": 424,
   "metadata": {},
   "outputs": [],
   "source": [
    "#Tuning for KNN model\n",
    "train_scores=[]\n",
    "valid_scores=[]\n",
    "#Create list of different n-neighbors\n",
    "neighbors = range(1,15)\n",
    "#Setup KNN instance\n",
    "knn_model=KNeighborsClassifier()\n",
    "#Loop through different neigbors\n",
    "for i in neighbors:\n",
    "    knn_model.set_params(n_neighbors=i)\n",
    "    knn_model.fit(X_train,y_train) #Fit the model\n",
    "    train_scores.append(knn_model.score(X_train,y_train)) #Update the train score list\n",
    "    valid_scores.append(knn_model.score(X_valid,y_valid)) #Update test scores list"
   ]
  },
  {
   "cell_type": "code",
   "execution_count": 425,
   "metadata": {},
   "outputs": [
    {
     "data": {
      "image/png": "[encoded data removed]",
      "text/plain": [
       "<Figure size 432x288 with 1 Axes>"
      ]
     },
     "metadata": {
      "needs_background": "light"
     },
     "output_type": "display_data"
    }
   ],
   "source": [
    "plt.plot(neighbors,train_scores,label=\"Train scores\")\n",
    "plt.plot(neighbors,valid_scores,label=\"Vest scores\")\n",
    "plt.xticks(np.arange(1,15,1))\n",
    "plt.yticks(np.arange(0.1,1,0.1))\n",
    "plt.xlabel(\"Number of neighbors\")\n",
    "plt.ylabel(\"Model scores\")\n",
    "plt.legend;"
   ]
  },
  {
   "cell_type": "markdown",
   "metadata": {},
   "source": [
    "After changing the parameter and the sizes of dataset, we could find that even at a level of very high overfitting, KNN model shows poor prediction on train set (score:0.4). We could try to improve KNN model by adjusting the train model, but the effiency and accuracy in the genre prediction of KNN model are poor."
   ]
  },
  {
   "cell_type": "markdown",
   "metadata": {},
   "source": [
    "## Model 2: RandomForestRegression Classifer"
   ]
  },
  {
   "cell_type": "code",
   "execution_count": 133,
   "metadata": {},
   "outputs": [],
   "source": [
    "rf = RandomForestClassifier(oob_score=True,random_state=42)"
   ]
  },
  {
   "cell_type": "code",
   "execution_count": 134,
   "metadata": {},
   "outputs": [
    {
     "data": {
      "text/plain": [
       "array([11,  7,  7, ..., 10, 12,  0], dtype=int8)"
      ]
     },
     "execution_count": 134,
     "metadata": {},
     "output_type": "execute_result"
    }
   ],
   "source": [
    "rf.fit(X_train,y_train)\n",
    "rf.predict(X_valid)"
   ]
  },
  {
   "cell_type": "code",
   "execution_count": 135,
   "metadata": {},
   "outputs": [
    {
     "name": "stdout",
     "output_type": "stream",
     "text": [
      "CPU times: user 5.43 s, sys: 159 ms, total: 5.59 s\n",
      "Wall time: 5.67 s\n",
      "0.9575431517596952\n",
      "0.6639\n",
      "0.6601658820892177\n"
     ]
    }
   ],
   "source": [
    "%time rf.fit(X_train, y_train)\n",
    "\n",
    "print(rf.score(X_train, y_train)) # classification accuracy on training set\n",
    "print(rf.score(X_valid, y_valid)) # classification accuracy on validation set\n",
    "print(rf.oob_score_)                    # classification accuracy on oob samples"
   ]
  },
  {
   "cell_type": "code",
   "execution_count": 136,
   "metadata": {},
   "outputs": [
    {
     "name": "stdout",
     "output_type": "stream",
     "text": [
      "CPU times: user 3.84 s, sys: 137 ms, total: 3.98 s\n",
      "Wall time: 4.36 s\n",
      "0.9698666666666667\n",
      "0.66025\n",
      "0.6572\n"
     ]
    }
   ],
   "source": [
    "%time rf.fit(X_small, y_small)\n",
    "\n",
    "print(rf.score(X_small, y_small)) # classification accuracy on training set\n",
    "print(rf.score(X_valid, y_valid)) # classification accuracy on validation set\n",
    "print(rf.oob_score_)                    # classification accuracy on oob samples"
   ]
  },
  {
   "cell_type": "markdown",
   "metadata": {},
   "source": [
    "It is significantly overfitting! Let's try to further reduce the size of dataset"
   ]
  },
  {
   "cell_type": "code",
   "execution_count": 137,
   "metadata": {},
   "outputs": [
    {
     "name": "stdout",
     "output_type": "stream",
     "text": [
      "full number of data points : 42305\n",
      "number of validation data points : 35000\n",
      "number of training data points : 7305\n",
      "number of subsampled training points : 5000\n"
     ]
    }
   ],
   "source": [
    "n_total = len(data)\n",
    "n_valid = 35000  # same as Kaggle's test set size\n",
    "n_train = n_total - n_valid\n",
    "n_small = 5000\n",
    "\n",
    "print('full number of data points : {}'.format(n_total))\n",
    "print('number of validation data points : {}'.format(n_valid))\n",
    "print('number of training data points : {}'.format(n_train))\n",
    "print('number of subsampled training points : {}'.format(n_small))"
   ]
  },
  {
   "cell_type": "code",
   "execution_count": 138,
   "metadata": {},
   "outputs": [
    {
     "name": "stdout",
     "output_type": "stream",
     "text": [
      "Number of small training data points: X = (5000, 13), y = (5000,)\n",
      "Number of full training data points: X = (7305, 13), y = (7305,)\n",
      "Number of validation data points: X = (35000, 13), y = (35000,)\n"
     ]
    }
   ],
   "source": [
    "X_train, X_valid = split_vals(X, n_train)\n",
    "y_train, y_valid = split_vals(y, n_train)\n",
    "\n",
    "X_small, _ = split_vals(X, n_small)\n",
    "y_small, _ = split_vals(y, n_small)\n",
    "\n",
    "print('Number of small training data points: X = {}, y = {}'.format(X_small.shape, y_small.shape))\n",
    "print('Number of full training data points: X = {}, y = {}'.format(X_train.shape, y_train.shape))\n",
    "print('Number of validation data points: X = {}, y = {}'.format(X_valid.shape, y_valid.shape))"
   ]
  },
  {
   "cell_type": "code",
   "execution_count": 139,
   "metadata": {},
   "outputs": [
    {
     "name": "stdout",
     "output_type": "stream",
     "text": [
      "CPU times: user 1.71 s, sys: 63.3 ms, total: 1.77 s\n",
      "Wall time: 1.87 s\n",
      "0.9871321013004791\n",
      "0.6556571428571428\n",
      "0.6514715947980835\n"
     ]
    }
   ],
   "source": [
    "%time rf.fit(X_train, y_train)\n",
    "\n",
    "print(rf.score(X_train, y_train)) # classification accuracy on training set\n",
    "print(rf.score(X_valid, y_valid)) # classification accuracy on validation set\n",
    "print(rf.oob_score_)                    # classification accuracy on oob samples"
   ]
  },
  {
   "cell_type": "code",
   "execution_count": 140,
   "metadata": {},
   "outputs": [
    {
     "name": "stdout",
     "output_type": "stream",
     "text": [
      "CPU times: user 1.36 s, sys: 56.9 ms, total: 1.42 s\n",
      "Wall time: 1.54 s\n",
      "0.9928\n",
      "0.6559142857142857\n",
      "0.6396\n"
     ]
    }
   ],
   "source": [
    "%time rf.fit(X_small, y_small)\n",
    "\n",
    "print(rf.score(X_small, y_small)) # classification accuracy on training set\n",
    "print(rf.score(X_valid, y_valid)) # classification accuracy on validation set\n",
    "print(rf.oob_score_)                    # classification accuracy on oob samples"
   ]
  },
  {
   "cell_type": "markdown",
   "metadata": {},
   "source": [
    "# Hyperparametre Tuning"
   ]
  },
  {
   "cell_type": "markdown",
   "metadata": {},
   "source": [
    "The change on the size of train set does not increase the accuracy of validation set. So we will see if we could change the hyperparameter to optimize the model. In the following part, we will use the X_train and y_train in line [251]"
   ]
  },
  {
   "cell_type": "code",
   "execution_count": 141,
   "metadata": {},
   "outputs": [],
   "source": [
    "rf = RandomForestClassifier(\n",
    "    n_estimators = 20, \n",
    "    class_weight = None, # classifier specific\n",
    "    criterion = 'gini',  # classifier specific\n",
    "    max_depth = 15, \n",
    "    min_samples_split = 2, \n",
    "    min_samples_leaf = 1, \n",
    "    min_weight_fraction_leaf = 0.0, \n",
    "    max_features = 'auto', \n",
    "    max_leaf_nodes = None, \n",
    "    min_impurity_decrease = 0.0, \n",
    "    min_impurity_split = None, \n",
    "    ccp_alpha = 0.0, \n",
    "    random_state = 42, \n",
    "    bootstrap = True, \n",
    "    oob_score = True, \n",
    "    max_samples = None,\n",
    "    warm_start = False, \n",
    "    n_jobs = -1, \n",
    "    verbose = 0, )"
   ]
  },
  {
   "cell_type": "code",
   "execution_count": null,
   "metadata": {},
   "outputs": [],
   "source": [
    "from sklearn.model_selection import RandomizedSearchCV"
   ]
  },
  {
   "cell_type": "code",
   "execution_count": null,
   "metadata": {},
   "outputs": [],
   "source": [
    "np.random.seed(42)\n",
    "grid = RandomizedSearchCV(estimator=RandomForestClassifier(),\n",
    "                   n_iter=50,\n",
    "                   param_distributions={'max_depth': [None, 5, 10],\n",
    "                                        'min_samples_leaf': [ 1,  3,  5,  7,  9, 11],\n",
    "                                        'min_samples_split': [ 2,  4,  6,  8, 10, 12],\n",
    "                                        'n_estimators':[ 5, 10, 50, 100, 150, 200, 250, 300, 350, 400, 450, 500],\n",
    "                                        'max_features': [0.25, 0.5, 0.75]},\n",
    "                   verbose=True)\n",
    "grid.fit(X_small,y_small)\n",
    "#返回最优的训练器\n",
    "best_estimator = grid.best_estimator_\n",
    "print(best_estimator)\n",
    "#输出最优训练器的精度\n",
    "print(grid.best_score_)"
   ]
  },
  {
   "cell_type": "code",
   "execution_count": 142,
   "metadata": {},
   "outputs": [],
   "source": [
    "tuned_rf = RandomForestClassifier(max_features=0.25,\n",
    "                                  min_samples_split=6, \n",
    "                                  n_estimators=350,\n",
    "                                  random_state=42,\n",
    "                                  bootstrap = True,\n",
    "                                  oob_score = True,\n",
    "                                  n_jobs = -1)"
   ]
  },
  {
   "cell_type": "code",
   "execution_count": 143,
   "metadata": {},
   "outputs": [
    {
     "name": "stdout",
     "output_type": "stream",
     "text": [
      "CPU times: user 303 ms, sys: 25.6 ms, total: 329 ms\n",
      "Wall time: 160 ms\n",
      "0.9778\n",
      "0.6343428571428571\n",
      "0.5866\n"
     ]
    }
   ],
   "source": [
    "%time rf.fit(X_small, y_small)\n",
    "\n",
    "print(rf.score(X_small, y_small)) # classification accuracy on training set\n",
    "print(rf.score(X_valid, y_valid)) # classification accuracy on validation set\n",
    "print(rf.oob_score_)                    # classification accuracy on oob samples"
   ]
  },
  {
   "cell_type": "code",
   "execution_count": 144,
   "metadata": {},
   "outputs": [
    {
     "data": {
      "text/html": [
       "<div>\n",
       "<style scoped>\n",
       "    .dataframe tbody tr th:only-of-type {\n",
       "        vertical-align: middle;\n",
       "    }\n",
       "\n",
       "    .dataframe tbody tr th {\n",
       "        vertical-align: top;\n",
       "    }\n",
       "\n",
       "    .dataframe thead th {\n",
       "        text-align: right;\n",
       "    }\n",
       "</style>\n",
       "<table border=\"1\" class=\"dataframe\">\n",
       "  <thead>\n",
       "    <tr style=\"text-align: right;\">\n",
       "      <th></th>\n",
       "      <th>actual</th>\n",
       "      <th>prediction</th>\n",
       "    </tr>\n",
       "  </thead>\n",
       "  <tbody>\n",
       "    <tr>\n",
       "      <th>37136</th>\n",
       "      <td>8</td>\n",
       "      <td>8</td>\n",
       "    </tr>\n",
       "    <tr>\n",
       "      <th>4981</th>\n",
       "      <td>7</td>\n",
       "      <td>7</td>\n",
       "    </tr>\n",
       "    <tr>\n",
       "      <th>19725</th>\n",
       "      <td>2</td>\n",
       "      <td>5</td>\n",
       "    </tr>\n",
       "    <tr>\n",
       "      <th>4684</th>\n",
       "      <td>7</td>\n",
       "      <td>0</td>\n",
       "    </tr>\n",
       "    <tr>\n",
       "      <th>24154</th>\n",
       "      <td>11</td>\n",
       "      <td>11</td>\n",
       "    </tr>\n",
       "  </tbody>\n",
       "</table>\n",
       "</div>"
      ],
      "text/plain": [
       "       actual  prediction\n",
       "37136       8           8\n",
       "4981        7           7\n",
       "19725       2           5\n",
       "4684        7           0\n",
       "24154      11          11"
      ]
     },
     "execution_count": 144,
     "metadata": {},
     "output_type": "execute_result"
    }
   ],
   "source": [
    "tuned_rf.fit(X_small,y_small)\n",
    "y_predict_valid = tuned_rf.predict(X_valid)\n",
    "pred_true = pd.DataFrame(data={\"actual\":y_valid,\"prediction\":y_predict_valid})\n",
    "pred_true.head()"
   ]
  },
  {
   "cell_type": "code",
   "execution_count": 145,
   "metadata": {},
   "outputs": [],
   "source": [
    "pred_true[\"result\"]=pred_true[\"actual\"]==pred_true[\"prediction\"]"
   ]
  },
  {
   "cell_type": "code",
   "execution_count": 146,
   "metadata": {},
   "outputs": [
    {
     "data": {
      "text/plain": [
       "<AxesSubplot:>"
      ]
     },
     "execution_count": 146,
     "metadata": {},
     "output_type": "execute_result"
    },
    {
     "data": {
      "image/png": "[encoded data removed]",
      "text/plain": [
       "<Figure size 432x288 with 1 Axes>"
      ]
     },
     "metadata": {
      "needs_background": "light"
     },
     "output_type": "display_data"
    }
   ],
   "source": [
    "pred_true[\"result\"].value_counts().plot(kind=\"barh\")"
   ]
  },
  {
   "cell_type": "code",
   "execution_count": 147,
   "metadata": {},
   "outputs": [],
   "source": [
    "from sklearn.metrics import classification_report"
   ]
  },
  {
   "cell_type": "code",
   "execution_count": 148,
   "metadata": {},
   "outputs": [
    {
     "name": "stdout",
     "output_type": "stream",
     "text": [
      "              precision    recall  f1-score   support\n",
      "\n",
      "           0       0.50      0.48      0.49      3780\n",
      "           1       0.69      0.62      0.65      1431\n",
      "           2       0.46      0.38      0.42      2530\n",
      "           3       0.06      0.00      0.01       381\n",
      "           4       0.75      0.28      0.41      1541\n",
      "           5       0.39      0.30      0.34      1728\n",
      "           6       0.46      0.22      0.29      1622\n",
      "           7       0.41      0.65      0.51      4851\n",
      "           8       0.93      0.99      0.96      2409\n",
      "           9       0.80      0.86      0.83      2413\n",
      "          10       0.90      0.91      0.91      2469\n",
      "          11       0.85      0.90      0.87      2449\n",
      "          12       0.85      0.84      0.84      2427\n",
      "          13       0.80      0.80      0.80      2514\n",
      "          14       0.80      0.78      0.79      2455\n",
      "\n",
      "    accuracy                           0.66     35000\n",
      "   macro avg       0.64      0.60      0.61     35000\n",
      "weighted avg       0.66      0.66      0.65     35000\n",
      "\n"
     ]
    }
   ],
   "source": [
    "print(classification_report(y_valid,y_predict_valid))"
   ]
  },
  {
   "cell_type": "code",
   "execution_count": 149,
   "metadata": {},
   "outputs": [
    {
     "data": {
      "text/plain": [
       "{6: 'Dark Trap',\n",
       " 13: 'Emo',\n",
       " 7: 'Hiphop',\n",
       " 5: 'Pop',\n",
       " 0: 'Rap',\n",
       " 11: 'RnB',\n",
       " 14: 'Trap Metal',\n",
       " 10: 'Underground Rap',\n",
       " 12: 'dnb',\n",
       " 2: 'hardstyle',\n",
       " 8: 'psytrance',\n",
       " 4: 'techhouse',\n",
       " 3: 'techno',\n",
       " 9: 'trance',\n",
       " 1: 'trap'}"
      ]
     },
     "execution_count": 149,
     "metadata": {},
     "output_type": "execute_result"
    }
   ],
   "source": [
    "dict_genre"
   ]
  },
  {
   "cell_type": "markdown",
   "metadata": {},
   "source": [
    "!!!!"
   ]
  },
  {
   "cell_type": "code",
   "execution_count": 150,
   "metadata": {},
   "outputs": [
    {
     "data": {
      "text/plain": [
       "<sklearn.metrics._plot.confusion_matrix.ConfusionMatrixDisplay at 0x7fde43141f60>"
      ]
     },
     "execution_count": 150,
     "metadata": {},
     "output_type": "execute_result"
    },
    {
     "data": {
      "image/png": "[encoded data removed]",
      "text/plain": [
       "<Figure size 720x720 with 2 Axes>"
      ]
     },
     "metadata": {
      "needs_background": "light"
     },
     "output_type": "display_data"
    }
   ],
   "source": [
    "fig, ax = plt.subplots(figsize=(10, 10))\n",
    "\n",
    "metrics.plot_confusion_matrix(\n",
    "    tuned_rf, \n",
    "    X_valid, \n",
    "    y_valid, \n",
    "    display_labels = range(15),\n",
    "    include_values = True, \n",
    "    xticks_rotation = 45, \n",
    "    values_format = None, \n",
    "    cmap = 'viridis', \n",
    "    ax = ax,\n",
    "    colorbar = True,\n",
    ")"
   ]
  },
  {
   "cell_type": "markdown",
   "metadata": {},
   "source": [
    "# Feature Importance"
   ]
  },
  {
   "cell_type": "code",
   "execution_count": 151,
   "metadata": {},
   "outputs": [],
   "source": [
    "def rf_feat_importance(model, df):\n",
    "    feat_importance = pd.DataFrame({\n",
    "        'cols': df.columns, \n",
    "        'imp': model.feature_importances_,\n",
    "    })\n",
    "    feat_importance = feat_importance.sort_values('imp', ascending = False)\n",
    "    return feat_importance\n",
    "\n",
    "\n",
    "def rf_unfolded_feat_importance(model, df):\n",
    "    feat_importance = pd.DataFrame({\n",
    "        'cols': df.columns, \n",
    "        'imp': model.feature_importances_,\n",
    "    })\n",
    "    for i, tree in enumerate(model.estimators_):\n",
    "        feat_importance['imp_' + str(i)] = tree.feature_importances_\n",
    "    feat_importance = feat_importance.sort_values('imp', ascending = False)\n",
    "    return feat_importance\n",
    "\n",
    "\n",
    "# found at\n",
    "# https://stackoverflow.com/questions/49170296/scikit-learn-feature-importance-calculation-in-decision-trees\n",
    "def tree_feature_importance(model, normalize = True):\n",
    "\n",
    "    left_c = model.tree_.children_left\n",
    "    right_c = model.tree_.children_right\n",
    "\n",
    "    impurity = model.tree_.impurity    \n",
    "    node_samples = model.tree_.weighted_n_node_samples \n",
    "\n",
    "    # Initialize the feature importance, those not used remain zero\n",
    "    feature_importance = np.zeros((model.tree_.n_features,))\n",
    "\n",
    "    for idx, node in enumerate(model.tree_.feature):\n",
    "        if node >= 0:\n",
    "            # Accumulate the feature importance over all the nodes where it's used\n",
    "            feature_importance[node] += (\n",
    "                impurity[idx]*node_samples[idx] -\n",
    "                impurity[left_c[idx]]*node_samples[left_c[idx]] -\n",
    "                impurity[right_c[idx]]*node_samples[right_c[idx]])\n",
    "\n",
    "    # Number of samples at the root node\n",
    "    feature_importance /= node_samples[0]\n",
    "\n",
    "    if normalize:\n",
    "        normalizer = feature_importance.sum()\n",
    "        if normalizer > 0:\n",
    "            feature_importance /= normalizer\n",
    "\n",
    "    return feature_importance"
   ]
  },
  {
   "cell_type": "code",
   "execution_count": 152,
   "metadata": {},
   "outputs": [
    {
     "data": {
      "text/html": [
       "<div>\n",
       "<style scoped>\n",
       "    .dataframe tbody tr th:only-of-type {\n",
       "        vertical-align: middle;\n",
       "    }\n",
       "\n",
       "    .dataframe tbody tr th {\n",
       "        vertical-align: top;\n",
       "    }\n",
       "\n",
       "    .dataframe thead th {\n",
       "        text-align: right;\n",
       "    }\n",
       "</style>\n",
       "<table border=\"1\" class=\"dataframe\">\n",
       "  <thead>\n",
       "    <tr style=\"text-align: right;\">\n",
       "      <th></th>\n",
       "      <th>cols</th>\n",
       "      <th>imp</th>\n",
       "    </tr>\n",
       "  </thead>\n",
       "  <tbody>\n",
       "    <tr>\n",
       "      <th>10</th>\n",
       "      <td>tempo</td>\n",
       "      <td>0.221366</td>\n",
       "    </tr>\n",
       "    <tr>\n",
       "      <th>11</th>\n",
       "      <td>duration_ms</td>\n",
       "      <td>0.126148</td>\n",
       "    </tr>\n",
       "    <tr>\n",
       "      <th>7</th>\n",
       "      <td>instrumentalness</td>\n",
       "      <td>0.097131</td>\n",
       "    </tr>\n",
       "    <tr>\n",
       "      <th>0</th>\n",
       "      <td>danceability</td>\n",
       "      <td>0.096622</td>\n",
       "    </tr>\n",
       "    <tr>\n",
       "      <th>3</th>\n",
       "      <td>loudness</td>\n",
       "      <td>0.086883</td>\n",
       "    </tr>\n",
       "    <tr>\n",
       "      <th>1</th>\n",
       "      <td>energy</td>\n",
       "      <td>0.081385</td>\n",
       "    </tr>\n",
       "    <tr>\n",
       "      <th>5</th>\n",
       "      <td>speechiness</td>\n",
       "      <td>0.068643</td>\n",
       "    </tr>\n",
       "    <tr>\n",
       "      <th>9</th>\n",
       "      <td>valence</td>\n",
       "      <td>0.067713</td>\n",
       "    </tr>\n",
       "    <tr>\n",
       "      <th>6</th>\n",
       "      <td>acousticness</td>\n",
       "      <td>0.065646</td>\n",
       "    </tr>\n",
       "    <tr>\n",
       "      <th>8</th>\n",
       "      <td>liveness</td>\n",
       "      <td>0.051772</td>\n",
       "    </tr>\n",
       "    <tr>\n",
       "      <th>2</th>\n",
       "      <td>key</td>\n",
       "      <td>0.025523</td>\n",
       "    </tr>\n",
       "    <tr>\n",
       "      <th>4</th>\n",
       "      <td>mode</td>\n",
       "      <td>0.006962</td>\n",
       "    </tr>\n",
       "    <tr>\n",
       "      <th>12</th>\n",
       "      <td>time_signature</td>\n",
       "      <td>0.004208</td>\n",
       "    </tr>\n",
       "  </tbody>\n",
       "</table>\n",
       "</div>"
      ],
      "text/plain": [
       "                cols       imp\n",
       "10             tempo  0.221366\n",
       "11       duration_ms  0.126148\n",
       "7   instrumentalness  0.097131\n",
       "0       danceability  0.096622\n",
       "3           loudness  0.086883\n",
       "1             energy  0.081385\n",
       "5        speechiness  0.068643\n",
       "9            valence  0.067713\n",
       "6       acousticness  0.065646\n",
       "8           liveness  0.051772\n",
       "2                key  0.025523\n",
       "4               mode  0.006962\n",
       "12    time_signature  0.004208"
      ]
     },
     "execution_count": 152,
     "metadata": {},
     "output_type": "execute_result"
    }
   ],
   "source": [
    "feat_importance = rf_feat_importance(tuned_rf, X_small)\n",
    "feat_importance"
   ]
  },
  {
   "cell_type": "code",
   "execution_count": 153,
   "metadata": {},
   "outputs": [
    {
     "data": {
      "image/png": "[encoded data removed]",
      "text/plain": [
       "<Figure size 864x720 with 1 Axes>"
      ]
     },
     "metadata": {
      "needs_background": "light"
     },
     "output_type": "display_data"
    }
   ],
   "source": [
    "barh = feat_importance.plot('cols', 'imp', 'barh', figsize = (12,10), legend = False)\n",
    "barh = barh.invert_yaxis()\n",
    "barh"
   ]
  },
  {
   "cell_type": "code",
   "execution_count": 154,
   "metadata": {},
   "outputs": [
    {
     "data": {
      "text/plain": [
       "10"
      ]
     },
     "execution_count": 154,
     "metadata": {},
     "output_type": "execute_result"
    }
   ],
   "source": [
    "to_keep = feat_importance[feat_importance.imp > 0.05].cols\n",
    "len(to_keep)"
   ]
  },
  {
   "cell_type": "code",
   "execution_count": 155,
   "metadata": {},
   "outputs": [
    {
     "name": "stdout",
     "output_type": "stream",
     "text": [
      "Number of small training data points: X = (5000, 10), y = (5000,)\n",
      "Number of full training data points: X = (7305, 10), y = (7305,)\n",
      "Number of validation data points: X = (35000, 10), y = (35000,)\n"
     ]
    }
   ],
   "source": [
    "df_keep = X[to_keep].copy()\n",
    "\n",
    "\n",
    "n_total = len(df_keep)\n",
    "n_valid = 35000  # same as Kaggle's test set size\n",
    "n_train = n_total - n_valid\n",
    "n_small = 5000\n",
    "\n",
    "X_train_keep, X_valid_keep = split_vals(df_keep, n_train)\n",
    "y_train, y_valid = split_vals(y, n_train)\n",
    "\n",
    "X_small_keep, _ = split_vals(df_keep, n_small)\n",
    "y_small, _ = split_vals(y, n_small)\n",
    "\n",
    "print('Number of small training data points: X = {}, y = {}'.format(X_small_keep.shape, y_small.shape))\n",
    "print('Number of full training data points: X = {}, y = {}'.format(X_train_keep.shape, y_train.shape))\n",
    "print('Number of validation data points: X = {}, y = {}'.format(X_valid_keep.shape, y_valid.shape))"
   ]
  },
  {
   "cell_type": "code",
   "execution_count": 156,
   "metadata": {},
   "outputs": [
    {
     "data": {
      "text/html": [
       "<div>\n",
       "<style scoped>\n",
       "    .dataframe tbody tr th:only-of-type {\n",
       "        vertical-align: middle;\n",
       "    }\n",
       "\n",
       "    .dataframe tbody tr th {\n",
       "        vertical-align: top;\n",
       "    }\n",
       "\n",
       "    .dataframe thead th {\n",
       "        text-align: right;\n",
       "    }\n",
       "</style>\n",
       "<table border=\"1\" class=\"dataframe\">\n",
       "  <thead>\n",
       "    <tr style=\"text-align: right;\">\n",
       "      <th></th>\n",
       "      <th>10793</th>\n",
       "      <th>28580</th>\n",
       "      <th>8043</th>\n",
       "      <th>17747</th>\n",
       "      <th>2823</th>\n",
       "    </tr>\n",
       "  </thead>\n",
       "  <tbody>\n",
       "    <tr>\n",
       "      <th>tempo</th>\n",
       "      <td>174.0120</td>\n",
       "      <td>137.946000</td>\n",
       "      <td>194.026000</td>\n",
       "      <td>189.0380</td>\n",
       "      <td>132.0220</td>\n",
       "    </tr>\n",
       "    <tr>\n",
       "      <th>duration_ms</th>\n",
       "      <td>175052.0000</td>\n",
       "      <td>277400.000000</td>\n",
       "      <td>188040.000000</td>\n",
       "      <td>249120.0000</td>\n",
       "      <td>174545.0000</td>\n",
       "    </tr>\n",
       "    <tr>\n",
       "      <th>instrumentalness</th>\n",
       "      <td>0.0795</td>\n",
       "      <td>0.901000</td>\n",
       "      <td>0.000029</td>\n",
       "      <td>0.0000</td>\n",
       "      <td>0.9200</td>\n",
       "    </tr>\n",
       "    <tr>\n",
       "      <th>danceability</th>\n",
       "      <td>0.4630</td>\n",
       "      <td>0.377000</td>\n",
       "      <td>0.768000</td>\n",
       "      <td>0.6860</td>\n",
       "      <td>0.6870</td>\n",
       "    </tr>\n",
       "    <tr>\n",
       "      <th>loudness</th>\n",
       "      <td>-8.5330</td>\n",
       "      <td>-11.328000</td>\n",
       "      <td>-6.042000</td>\n",
       "      <td>-8.3430</td>\n",
       "      <td>-6.0330</td>\n",
       "    </tr>\n",
       "    <tr>\n",
       "      <th>energy</th>\n",
       "      <td>0.3620</td>\n",
       "      <td>0.982000</td>\n",
       "      <td>0.648000</td>\n",
       "      <td>0.5880</td>\n",
       "      <td>0.8350</td>\n",
       "    </tr>\n",
       "    <tr>\n",
       "      <th>speechiness</th>\n",
       "      <td>0.1430</td>\n",
       "      <td>0.066600</td>\n",
       "      <td>0.188000</td>\n",
       "      <td>0.0554</td>\n",
       "      <td>0.0387</td>\n",
       "    </tr>\n",
       "    <tr>\n",
       "      <th>valence</th>\n",
       "      <td>0.0576</td>\n",
       "      <td>0.111000</td>\n",
       "      <td>0.358000</td>\n",
       "      <td>0.6170</td>\n",
       "      <td>0.3470</td>\n",
       "    </tr>\n",
       "    <tr>\n",
       "      <th>acousticness</th>\n",
       "      <td>0.2030</td>\n",
       "      <td>0.000005</td>\n",
       "      <td>0.045000</td>\n",
       "      <td>0.1780</td>\n",
       "      <td>0.4860</td>\n",
       "    </tr>\n",
       "    <tr>\n",
       "      <th>liveness</th>\n",
       "      <td>0.1000</td>\n",
       "      <td>0.262000</td>\n",
       "      <td>0.113000</td>\n",
       "      <td>0.0954</td>\n",
       "      <td>0.1060</td>\n",
       "    </tr>\n",
       "  </tbody>\n",
       "</table>\n",
       "</div>"
      ],
      "text/plain": [
       "                        10793          28580          8043         17747  \\\n",
       "tempo                174.0120     137.946000     194.026000     189.0380   \n",
       "duration_ms       175052.0000  277400.000000  188040.000000  249120.0000   \n",
       "instrumentalness       0.0795       0.901000       0.000029       0.0000   \n",
       "danceability           0.4630       0.377000       0.768000       0.6860   \n",
       "loudness              -8.5330     -11.328000      -6.042000      -8.3430   \n",
       "energy                 0.3620       0.982000       0.648000       0.5880   \n",
       "speechiness            0.1430       0.066600       0.188000       0.0554   \n",
       "valence                0.0576       0.111000       0.358000       0.6170   \n",
       "acousticness           0.2030       0.000005       0.045000       0.1780   \n",
       "liveness               0.1000       0.262000       0.113000       0.0954   \n",
       "\n",
       "                        2823   \n",
       "tempo                132.0220  \n",
       "duration_ms       174545.0000  \n",
       "instrumentalness       0.9200  \n",
       "danceability           0.6870  \n",
       "loudness              -6.0330  \n",
       "energy                 0.8350  \n",
       "speechiness            0.0387  \n",
       "valence                0.3470  \n",
       "acousticness           0.4860  \n",
       "liveness               0.1060  "
      ]
     },
     "execution_count": 156,
     "metadata": {},
     "output_type": "execute_result"
    }
   ],
   "source": [
    "X_train_keep.head().T"
   ]
  },
  {
   "cell_type": "code",
   "execution_count": 157,
   "metadata": {},
   "outputs": [
    {
     "name": "stdout",
     "output_type": "stream",
     "text": [
      "CPU times: user 4.32 s, sys: 275 ms, total: 4.59 s\n",
      "Wall time: 1.73 s\n",
      "0.986\n",
      "0.656\n",
      "0.6574\n"
     ]
    }
   ],
   "source": [
    "tuned_rf = RandomForestClassifier(max_features=0.25,\n",
    "                                  min_samples_split=6, \n",
    "                                  n_estimators=350,\n",
    "                                  random_state=42,\n",
    "                                  bootstrap = True,\n",
    "                                  oob_score = True,\n",
    "                                  n_jobs = -1)\n",
    "%time tuned_rf.fit(X_small_keep, y_small)\n",
    "print(tuned_rf.score(X_small_keep, y_small)) # classification accuracy on training set\n",
    "print(tuned_rf.score(X_valid_keep, y_valid)) # classification accuracy on validation set\n",
    "print(tuned_rf.oob_score_)                    # classification accuracy on oob samples"
   ]
  },
  {
   "cell_type": "markdown",
   "metadata": {},
   "source": [
    "## Permutation importance"
   ]
  },
  {
   "cell_type": "code",
   "execution_count": 366,
   "metadata": {},
   "outputs": [],
   "source": [
    "tuned_rf.fit(X_train,y_train)\n",
    "result = permutation_importance(\n",
    "    tuned_rf, \n",
    "    X_valid, \n",
    "    y_valid, \n",
    "    n_repeats = 10,\n",
    "    random_state = 42, n_jobs = -1,\n",
    ")\n",
    "sorted_idx = result.importances_mean.argsort()"
   ]
  },
  {
   "cell_type": "code",
   "execution_count": 368,
   "metadata": {},
   "outputs": [
    {
     "data": {
      "image/png": "[encoded data removed]",
      "text/plain": [
       "<Figure size 1080x3600 with 1 Axes>"
      ]
     },
     "metadata": {
      "needs_background": "light"
     },
     "output_type": "display_data"
    }
   ],
   "source": [
    "fig, ax = plt.subplots(figsize = (15, 50))\n",
    "ax.boxplot(\n",
    "    result.importances[sorted_idx].T,\n",
    "    vert = False, \n",
    "    labels = X_valid.columns[sorted_idx],\n",
    ")\n",
    "ax.set_title(\"Permutation Importances (validation set)\")\n",
    "fig.tight_layout()\n",
    "plt.show()"
   ]
  },
  {
   "cell_type": "code",
   "execution_count": 373,
   "metadata": {},
   "outputs": [
    {
     "data": {
      "text/plain": [
       "array([ True,  True, False,  True, False,  True,  True,  True, False,  True,  True,  True, False])"
      ]
     },
     "execution_count": 373,
     "metadata": {},
     "output_type": "execute_result"
    }
   ],
   "source": [
    "bool_filter = result.importances_mean > 0.01\n",
    "bool_filter"
   ]
  },
  {
   "cell_type": "code",
   "execution_count": 374,
   "metadata": {},
   "outputs": [
    {
     "name": "stdout",
     "output_type": "stream",
     "text": [
      "Number of small training data points: X = (5000, 9), y = (5000,)\n",
      "Number of full training data points: X = (7305, 9), y = (7305,)\n",
      "Number of validation data points: X = (35000, 9), y = (35000,)\n"
     ]
    }
   ],
   "source": [
    "to_keep = X.columns[bool_filter]\n",
    "df_keep = X[to_keep].copy()\n",
    "\n",
    "n_total = len(df_keep)\n",
    "n_valid = 35000  # same as Kaggle's test set size\n",
    "n_train = n_total - n_valid\n",
    "n_small = 5000\n",
    "\n",
    "X_train_keep, X_valid_keep = split_vals(df_keep, n_train)\n",
    "y_train, y_valid = split_vals(y, n_train)\n",
    "\n",
    "X_small_keep, _ = split_vals(df_keep, n_small)\n",
    "y_small, _ = split_vals(y, n_small)\n",
    "\n",
    "\n",
    "print('Number of small training data points: X = {}, y = {}'.format(X_small_keep.shape, y_small.shape))\n",
    "print('Number of full training data points: X = {}, y = {}'.format(X_train_keep.shape, y_train.shape))\n",
    "print('Number of validation data points: X = {}, y = {}'.format(X_valid_keep.shape, y_valid.shape))"
   ]
  },
  {
   "cell_type": "code",
   "execution_count": 375,
   "metadata": {},
   "outputs": [
    {
     "name": "stdout",
     "output_type": "stream",
     "text": [
      "CPU times: user 4.12 s, sys: 268 ms, total: 4.39 s\n",
      "Wall time: 1.36 s\n",
      "0.9808\n",
      "0.6568\n",
      "0.6498\n"
     ]
    }
   ],
   "source": [
    "tuned_rf = RandomForestClassifier(max_features=0.25,\n",
    "                                  min_samples_split=6, \n",
    "                                  n_estimators=350,\n",
    "                                  random_state=42,\n",
    "                                  bootstrap = True,\n",
    "                                  oob_score = True,\n",
    "                                  n_jobs = -1)\n",
    "%time tuned_rf.fit(X_small_keep, y_small)\n",
    "print(tuned_rf.score(X_small_keep, y_small)) # classification accuracy on training set\n",
    "print(tuned_rf.score(X_valid_keep, y_valid)) # classification accuracy on validation set\n",
    "print(tuned_rf.oob_score_)           "
   ]
  },
  {
   "cell_type": "markdown",
   "metadata": {},
   "source": [
    "The result of ablation by the method of permutation method and normal method is the same. They both lead to the deletion of \"mode\",\"key\" and \"time signature\". The new dataset appears an increase of 0.02 on the score of validation set and 0.05 on obb score. "
   ]
  },
  {
   "cell_type": "code",
   "execution_count": 378,
   "metadata": {},
   "outputs": [
    {
     "name": "stdout",
     "output_type": "stream",
     "text": [
      "CPU times: user 6.02 s, sys: 360 ms, total: 6.38 s\n",
      "Wall time: 1.65 s\n",
      "0.9772758384668035\n",
      "0.6607714285714286\n",
      "0.6577686516084873\n"
     ]
    }
   ],
   "source": [
    "tuned_rf = RandomForestClassifier(max_features=0.25,\n",
    "                                  min_samples_split=6, \n",
    "                                  n_estimators=350,\n",
    "                                  random_state=42,\n",
    "                                  bootstrap = True,\n",
    "                                  oob_score = True,\n",
    "                                  n_jobs = -1)\n",
    "%time tuned_rf.fit(X_train_keep, y_train)\n",
    "print(tuned_rf.score(X_train_keep, y_train)) # classification accuracy on training set\n",
    "print(tuned_rf.score(X_valid_keep, y_valid)) # classification accuracy on validation set\n",
    "print(tuned_rf.oob_score_)           "
   ]
  },
  {
   "cell_type": "markdown",
   "metadata": {},
   "source": [
    "When we tried to fit the model on the whole train set, the level of overfitting decreased and the score of validation set got improved a litle bit. Let's try to increase the size of the train dataset. "
   ]
  },
  {
   "cell_type": "code",
   "execution_count": 383,
   "metadata": {},
   "outputs": [
    {
     "name": "stdout",
     "output_type": "stream",
     "text": [
      "Number of small training data points: X = (5000, 9), y = (5000,)\n",
      "Number of full training data points: X = (22305, 9), y = (22305,)\n",
      "Number of validation data points: X = (20000, 9), y = (20000,)\n"
     ]
    }
   ],
   "source": [
    "n_total = len(df_keep)\n",
    "n_valid = 20000  # same as Kaggle's test set size\n",
    "n_train = n_total - n_valid\n",
    "n_small = 5000\n",
    "\n",
    "X_train_keep, X_valid_keep = split_vals(df_keep, n_train)\n",
    "y_train, y_valid = split_vals(y, n_train)\n",
    "\n",
    "X_small_keep, _ = split_vals(df_keep, n_small)\n",
    "y_small, _ = split_vals(y, n_small)\n",
    "\n",
    "\n",
    "print('Number of small training data points: X = {}, y = {}'.format(X_small_keep.shape, y_small.shape))\n",
    "print('Number of full training data points: X = {}, y = {}'.format(X_train_keep.shape, y_train.shape))\n",
    "print('Number of validation data points: X = {}, y = {}'.format(X_valid_keep.shape, y_valid.shape))"
   ]
  },
  {
   "cell_type": "code",
   "execution_count": 384,
   "metadata": {},
   "outputs": [
    {
     "name": "stdout",
     "output_type": "stream",
     "text": [
      "CPU times: user 20.2 s, sys: 461 ms, total: 20.7 s\n",
      "Wall time: 4.19 s\n",
      "0.9488455503250393\n",
      "0.6684\n",
      "0.6625420309347679\n"
     ]
    }
   ],
   "source": [
    "tuned_rf = RandomForestClassifier(max_features=0.25,\n",
    "                                  min_samples_split=6, \n",
    "                                  n_estimators=350,\n",
    "                                  random_state=42,\n",
    "                                  bootstrap = True,\n",
    "                                  oob_score = True,\n",
    "                                  n_jobs = -1)\n",
    "%time tuned_rf.fit(X_train_keep, y_train)\n",
    "print(tuned_rf.score(X_train_keep, y_train)) # classification accuracy on training set\n",
    "print(tuned_rf.score(X_valid_keep, y_valid)) # classification accuracy on validation set\n",
    "print(tuned_rf.oob_score_)     "
   ]
  },
  {
   "cell_type": "code",
   "execution_count": 386,
   "metadata": {},
   "outputs": [
    {
     "name": "stdout",
     "output_type": "stream",
     "text": [
      "Number of small training data points: X = (5000, 9), y = (5000,)\n",
      "Number of full training data points: X = (27305, 9), y = (27305,)\n",
      "Number of validation data points: X = (15000, 9), y = (15000,)\n"
     ]
    }
   ],
   "source": [
    "n_total = len(df_keep)\n",
    "n_valid = 15000  # same as Kaggle's test set size\n",
    "n_train = n_total - n_valid\n",
    "n_small = 5000\n",
    "\n",
    "X_train_keep, X_valid_keep = split_vals(df_keep, n_train)\n",
    "y_train, y_valid = split_vals(y, n_train)\n",
    "\n",
    "X_small_keep, _ = split_vals(df_keep, n_small)\n",
    "y_small, _ = split_vals(y, n_small)\n",
    "\n",
    "\n",
    "print('Number of small training data points: X = {}, y = {}'.format(X_small_keep.shape, y_small.shape))\n",
    "print('Number of full training data points: X = {}, y = {}'.format(X_train_keep.shape, y_train.shape))\n",
    "print('Number of validation data points: X = {}, y = {}'.format(X_valid_keep.shape, y_valid.shape))"
   ]
  },
  {
   "cell_type": "code",
   "execution_count": 387,
   "metadata": {},
   "outputs": [
    {
     "name": "stdout",
     "output_type": "stream",
     "text": [
      "CPU times: user 25.1 s, sys: 509 ms, total: 25.6 s\n",
      "Wall time: 4.89 s\n",
      "0.9420252700970518\n",
      "0.6686666666666666\n",
      "0.6629555026551913\n"
     ]
    }
   ],
   "source": [
    "tuned_rf = RandomForestClassifier(max_features=0.25,\n",
    "                                  min_samples_split=6, \n",
    "                                  n_estimators=350,\n",
    "                                  random_state=42,\n",
    "                                  bootstrap = True,\n",
    "                                  oob_score = True,\n",
    "                                  n_jobs = -1)\n",
    "%time tuned_rf.fit(X_train_keep, y_train)\n",
    "print(tuned_rf.score(X_train_keep, y_train)) # classification accuracy on training set\n",
    "print(tuned_rf.score(X_valid_keep, y_valid)) # classification accuracy on validation set\n",
    "print(tuned_rf.oob_score_)     "
   ]
  },
  {
   "cell_type": "markdown",
   "metadata": {},
   "source": [
    "After the elimination of features with least importance, the increase of the size of train set could lead to a better score of our model. "
   ]
  },
  {
   "cell_type": "markdown",
   "metadata": {},
   "source": [
    "## Correlation"
   ]
  },
  {
   "cell_type": "code",
   "execution_count": 385,
   "metadata": {},
   "outputs": [
    {
     "data": {
      "image/png": "[encoded data removed]",
      "text/plain": [
       "<Figure size 1080x720 with 2 Axes>"
      ]
     },
     "metadata": {
      "needs_background": "light"
     },
     "output_type": "display_data"
    }
   ],
   "source": [
    "corr_matrix=data.corr()\n",
    "fig,ax=plt.subplots(figsize=(15,10))\n",
    "ax=sns.heatmap(corr_matrix,\n",
    "              annot=True,\n",
    "              linewidths=0.5,\n",
    "              fmt=\".2f\",\n",
    "              cmap=\"YlGnBu\");"
   ]
  },
  {
   "cell_type": "code",
   "execution_count": 400,
   "metadata": {},
   "outputs": [
    {
     "data": {
      "text/plain": [
       "['danceability',\n",
       " 'energy',\n",
       " 'loudness',\n",
       " 'speechiness',\n",
       " 'acousticness',\n",
       " 'instrumentalness',\n",
       " 'valence',\n",
       " 'tempo',\n",
       " 'duration_ms']"
      ]
     },
     "execution_count": 400,
     "metadata": {},
     "output_type": "execute_result"
    }
   ],
   "source": [
    "cols = df_keep.columns.tolist()\n",
    "cols"
   ]
  },
  {
   "cell_type": "code",
   "execution_count": 401,
   "metadata": {},
   "outputs": [
    {
     "data": {
      "text/plain": [
       "81"
      ]
     },
     "execution_count": 401,
     "metadata": {},
     "output_type": "execute_result"
    }
   ],
   "source": [
    "corr = np.round(scipy.stats.spearmanr(data[cols]).correlation, 4)\n",
    "corr.size"
   ]
  },
  {
   "cell_type": "code",
   "execution_count": 402,
   "metadata": {},
   "outputs": [
    {
     "data": {
      "text/plain": [
       "36"
      ]
     },
     "execution_count": 402,
     "metadata": {},
     "output_type": "execute_result"
    }
   ],
   "source": [
    "corr_condensed = hierarchy.distance.squareform(1 - corr)\n",
    "corr_condensed.size"
   ]
  },
  {
   "cell_type": "code",
   "execution_count": 403,
   "metadata": {},
   "outputs": [
    {
     "data": {
      "image/png": "[encoded data removed]",
      "text/plain": [
       "<Figure size 1152x1440 with 1 Axes>"
      ]
     },
     "metadata": {
      "needs_background": "light"
     },
     "output_type": "display_data"
    }
   ],
   "source": [
    "corr_linkage = hierarchy.linkage(corr_condensed, method = 'average')\n",
    "\n",
    "# compute plot\n",
    "fig = plt.figure(figsize = (16,20))\n",
    "dendrogram = hierarchy.dendrogram(\n",
    "    corr_linkage, \n",
    "    labels = cols, \n",
    "    orientation = 'left', \n",
    "    leaf_font_size = 16,\n",
    ")\n",
    "plt.show()"
   ]
  },
  {
   "cell_type": "code",
   "execution_count": 404,
   "metadata": {},
   "outputs": [],
   "source": [
    "from collections import defaultdict"
   ]
  },
  {
   "cell_type": "code",
   "execution_count": 405,
   "metadata": {},
   "outputs": [
    {
     "data": {
      "text/plain": [
       "['danceability',\n",
       " 'energy',\n",
       " 'key',\n",
       " 'loudness',\n",
       " 'mode',\n",
       " 'speechiness',\n",
       " 'acousticness',\n",
       " 'instrumentalness',\n",
       " 'liveness']"
      ]
     },
     "execution_count": 405,
     "metadata": {},
     "output_type": "execute_result"
    }
   ],
   "source": [
    "# compute hierarchical clustering\n",
    "cluster_ids = hierarchy.fcluster(corr_linkage, 0.1, criterion = 'distance')\n",
    "\n",
    "# reshape clustering as {cluster_index : feature_index}\n",
    "cluster_id_to_feature_ids = defaultdict(list)\n",
    "for idx, cluster_id in enumerate(cluster_ids):\n",
    "    cluster_id_to_feature_ids[cluster_id].append(idx)\n",
    "\n",
    "# keep only first feature for each cluster\n",
    "selected_features = [v[0] for v in cluster_id_to_feature_ids.values()]\n",
    "\n",
    "# shift feature index after 62\n",
    "selected_features = [(i if i < 62 else i+1) for i in selected_features]\n",
    "\n",
    "# retained set of features\n",
    "selected_features = [data.columns[i] for i in selected_features]\n",
    "selected_features"
   ]
  },
  {
   "cell_type": "markdown",
   "metadata": {},
   "source": [
    "We could not find a high correlation between any of two columns."
   ]
  },
  {
   "cell_type": "markdown",
   "metadata": {},
   "source": [
    "# Final model and train dataset"
   ]
  },
  {
   "cell_type": "code",
   "execution_count": 45,
   "metadata": {},
   "outputs": [],
   "source": [
    "tuned_rf = RandomForestClassifier(max_features=0.25,\n",
    "                                  min_samples_split=6, \n",
    "                                  n_estimators=350,\n",
    "                                  random_state=42,\n",
    "                                  bootstrap = True,\n",
    "                                  oob_score = True,\n",
    "                                  n_jobs = -1)\n",
    "  "
   ]
  },
  {
   "cell_type": "code",
   "execution_count": 158,
   "metadata": {},
   "outputs": [
    {
     "name": "stdout",
     "output_type": "stream",
     "text": [
      "Number of small training data points: X = (5000, 10), y = (5000,)\n",
      "Number of full training data points: X = (22305, 10), y = (22305,)\n",
      "Number of validation data points: X = (20000, 10), y = (20000,)\n"
     ]
    }
   ],
   "source": [
    "to_keep = feat_importance[feat_importance.imp > 0.05].cols\n",
    "len(to_keep)\n",
    "\n",
    "n_total = len(df_keep)\n",
    "n_valid = 20000  # same as Kaggle's test set size\n",
    "n_train = n_total - n_valid\n",
    "n_small = 5000\n",
    "\n",
    "X_train_keep, X_valid_keep = split_vals(df_keep, n_train)\n",
    "y_train, y_valid = split_vals(y, n_train)\n",
    "\n",
    "X_small_keep, _ = split_vals(df_keep, n_small)\n",
    "y_small, _ = split_vals(y, n_small)\n",
    "\n",
    "\n",
    "print('Number of small training data points: X = {}, y = {}'.format(X_small_keep.shape, y_small.shape))\n",
    "print('Number of full training data points: X = {}, y = {}'.format(X_train_keep.shape, y_train.shape))\n",
    "print('Number of validation data points: X = {}, y = {}'.format(X_valid_keep.shape, y_valid.shape))"
   ]
  },
  {
   "cell_type": "code",
   "execution_count": 159,
   "metadata": {},
   "outputs": [
    {
     "name": "stdout",
     "output_type": "stream",
     "text": [
      "CPU times: user 21.6 s, sys: 681 ms, total: 22.3 s\n",
      "Wall time: 6.26 s\n",
      "0.9508182021968169\n",
      "0.6641\n",
      "0.6663976686841515\n"
     ]
    }
   ],
   "source": [
    "%time tuned_rf.fit(X_train_keep, y_train)\n",
    "print(tuned_rf.score(X_train_keep, y_train)) # classification accuracy on training set\n",
    "print(tuned_rf.score(X_valid_keep, y_valid)) # classification accuracy on validation set\n",
    "print(tuned_rf.oob_score_)   "
   ]
  },
  {
   "cell_type": "code",
   "execution_count": 413,
   "metadata": {},
   "outputs": [],
   "source": [
    "y_predict_valid = tuned_rf.predict(X_valid_keep)"
   ]
  },
  {
   "cell_type": "code",
   "execution_count": 414,
   "metadata": {},
   "outputs": [
    {
     "name": "stdout",
     "output_type": "stream",
     "text": [
      "              precision    recall  f1-score   support\n",
      "\n",
      "           0       0.49      0.46      0.48      2141\n",
      "           1       0.71      0.69      0.70       779\n",
      "           2       0.43      0.42      0.42      1416\n",
      "           3       0.23      0.04      0.07       210\n",
      "           4       0.58      0.31      0.40       901\n",
      "           5       0.43      0.38      0.40       990\n",
      "           6       0.40      0.22      0.29       960\n",
      "           7       0.41      0.56      0.47      2792\n",
      "           8       0.96      0.98      0.97      1396\n",
      "           9       0.86      0.92      0.89      1378\n",
      "          10       0.92      0.92      0.92      1435\n",
      "          11       0.88      0.91      0.89      1384\n",
      "          12       0.86      0.86      0.86      1424\n",
      "          13       0.82      0.85      0.83      1401\n",
      "          14       0.85      0.85      0.85      1393\n",
      "\n",
      "    accuracy                           0.67     20000\n",
      "   macro avg       0.65      0.62      0.63     20000\n",
      "weighted avg       0.67      0.67      0.66     20000\n",
      "\n"
     ]
    }
   ],
   "source": [
    "print(classification_report(y_valid,y_predict_valid))"
   ]
  },
  {
   "cell_type": "code",
   "execution_count": 419,
   "metadata": {},
   "outputs": [
    {
     "data": {
      "text/plain": [
       "{7: 'Dark Trap',\n",
       " 12: 'Emo',\n",
       " 11: 'Hiphop',\n",
       " 10: 'Pop',\n",
       " 9: 'Rap',\n",
       " 1: 'RnB',\n",
       " 13: 'Trap Metal',\n",
       " 6: 'Underground Rap',\n",
       " 5: 'dnb',\n",
       " 14: 'hardstyle',\n",
       " 8: 'psytrance',\n",
       " 4: 'techhouse',\n",
       " 0: 'techno',\n",
       " 2: 'trance',\n",
       " 3: 'trap'}"
      ]
     },
     "execution_count": 419,
     "metadata": {},
     "output_type": "execute_result"
    }
   ],
   "source": [
    "dict_genre"
   ]
  },
  {
   "cell_type": "markdown",
   "metadata": {},
   "source": [
    "This model has different levels of accuracy on the prediction of different the genres:"
   ]
  },
  {
   "cell_type": "markdown",
   "metadata": {},
   "source": [
    "High efficacy: Psytrance / Rap / Pop / Hiphop / Emo / Trap Metal / hardstyle"
   ]
  },
  {
   "cell_type": "markdown",
   "metadata": {},
   "source": [
    "Medium efficacy: RnB / techhouse"
   ]
  },
  {
   "cell_type": "markdown",
   "metadata": {},
   "source": [
    "Low efficacy: techno / trance / dnb / Dark Trap / Underground Rap / trap"
   ]
  },
  {
   "cell_type": "markdown",
   "metadata": {},
   "source": [
    "In the following research, we might need to explore more features of genres of low efficacy for the model to better identify them. "
   ]
  },
  {
   "cell_type": "markdown",
   "metadata": {},
   "source": [
    "# Preparation for Streamlit demonstrator"
   ]
  },
  {
   "cell_type": "code",
   "execution_count": 169,
   "metadata": {},
   "outputs": [
    {
     "data": {
      "text/html": [
       "<div>\n",
       "<style scoped>\n",
       "    .dataframe tbody tr th:only-of-type {\n",
       "        vertical-align: middle;\n",
       "    }\n",
       "\n",
       "    .dataframe tbody tr th {\n",
       "        vertical-align: top;\n",
       "    }\n",
       "\n",
       "    .dataframe thead th {\n",
       "        text-align: right;\n",
       "    }\n",
       "</style>\n",
       "<table border=\"1\" class=\"dataframe\">\n",
       "  <thead>\n",
       "    <tr style=\"text-align: right;\">\n",
       "      <th></th>\n",
       "      <th>10793</th>\n",
       "      <th>28580</th>\n",
       "      <th>8043</th>\n",
       "      <th>17747</th>\n",
       "      <th>2823</th>\n",
       "    </tr>\n",
       "  </thead>\n",
       "  <tbody>\n",
       "    <tr>\n",
       "      <th>tempo</th>\n",
       "      <td>174.0120</td>\n",
       "      <td>137.946000</td>\n",
       "      <td>194.026000</td>\n",
       "      <td>189.0380</td>\n",
       "      <td>132.0220</td>\n",
       "    </tr>\n",
       "    <tr>\n",
       "      <th>duration_ms</th>\n",
       "      <td>175052.0000</td>\n",
       "      <td>277400.000000</td>\n",
       "      <td>188040.000000</td>\n",
       "      <td>249120.0000</td>\n",
       "      <td>174545.0000</td>\n",
       "    </tr>\n",
       "    <tr>\n",
       "      <th>instrumentalness</th>\n",
       "      <td>0.0795</td>\n",
       "      <td>0.901000</td>\n",
       "      <td>0.000029</td>\n",
       "      <td>0.0000</td>\n",
       "      <td>0.9200</td>\n",
       "    </tr>\n",
       "    <tr>\n",
       "      <th>danceability</th>\n",
       "      <td>0.4630</td>\n",
       "      <td>0.377000</td>\n",
       "      <td>0.768000</td>\n",
       "      <td>0.6860</td>\n",
       "      <td>0.6870</td>\n",
       "    </tr>\n",
       "    <tr>\n",
       "      <th>loudness</th>\n",
       "      <td>-8.5330</td>\n",
       "      <td>-11.328000</td>\n",
       "      <td>-6.042000</td>\n",
       "      <td>-8.3430</td>\n",
       "      <td>-6.0330</td>\n",
       "    </tr>\n",
       "    <tr>\n",
       "      <th>energy</th>\n",
       "      <td>0.3620</td>\n",
       "      <td>0.982000</td>\n",
       "      <td>0.648000</td>\n",
       "      <td>0.5880</td>\n",
       "      <td>0.8350</td>\n",
       "    </tr>\n",
       "    <tr>\n",
       "      <th>speechiness</th>\n",
       "      <td>0.1430</td>\n",
       "      <td>0.066600</td>\n",
       "      <td>0.188000</td>\n",
       "      <td>0.0554</td>\n",
       "      <td>0.0387</td>\n",
       "    </tr>\n",
       "    <tr>\n",
       "      <th>valence</th>\n",
       "      <td>0.0576</td>\n",
       "      <td>0.111000</td>\n",
       "      <td>0.358000</td>\n",
       "      <td>0.6170</td>\n",
       "      <td>0.3470</td>\n",
       "    </tr>\n",
       "    <tr>\n",
       "      <th>acousticness</th>\n",
       "      <td>0.2030</td>\n",
       "      <td>0.000005</td>\n",
       "      <td>0.045000</td>\n",
       "      <td>0.1780</td>\n",
       "      <td>0.4860</td>\n",
       "    </tr>\n",
       "    <tr>\n",
       "      <th>liveness</th>\n",
       "      <td>0.1000</td>\n",
       "      <td>0.262000</td>\n",
       "      <td>0.113000</td>\n",
       "      <td>0.0954</td>\n",
       "      <td>0.1060</td>\n",
       "    </tr>\n",
       "  </tbody>\n",
       "</table>\n",
       "</div>"
      ],
      "text/plain": [
       "                        10793          28580          8043         17747  \\\n",
       "tempo                174.0120     137.946000     194.026000     189.0380   \n",
       "duration_ms       175052.0000  277400.000000  188040.000000  249120.0000   \n",
       "instrumentalness       0.0795       0.901000       0.000029       0.0000   \n",
       "danceability           0.4630       0.377000       0.768000       0.6860   \n",
       "loudness              -8.5330     -11.328000      -6.042000      -8.3430   \n",
       "energy                 0.3620       0.982000       0.648000       0.5880   \n",
       "speechiness            0.1430       0.066600       0.188000       0.0554   \n",
       "valence                0.0576       0.111000       0.358000       0.6170   \n",
       "acousticness           0.2030       0.000005       0.045000       0.1780   \n",
       "liveness               0.1000       0.262000       0.113000       0.0954   \n",
       "\n",
       "                        2823   \n",
       "tempo                132.0220  \n",
       "duration_ms       174545.0000  \n",
       "instrumentalness       0.9200  \n",
       "danceability           0.6870  \n",
       "loudness              -6.0330  \n",
       "energy                 0.8350  \n",
       "speechiness            0.0387  \n",
       "valence                0.3470  \n",
       "acousticness           0.4860  \n",
       "liveness               0.1060  "
      ]
     },
     "execution_count": 169,
     "metadata": {},
     "output_type": "execute_result"
    }
   ],
   "source": [
    "df_keep.head().T"
   ]
  },
  {
   "cell_type": "code",
   "execution_count": 174,
   "metadata": {},
   "outputs": [],
   "source": [
    "final_dataset = df_keep.copy()\n",
    "final_dataset[\"genre\"] = data[\"genre\"]"
   ]
  },
  {
   "cell_type": "code",
   "execution_count": 179,
   "metadata": {},
   "outputs": [],
   "source": [
    "path_to_data2 = os.path.join(path_to_repo,\"data\",\"archive\",\"genre_V3\")\n",
    "final_dataset.to_csv(path_to_data2 + '.csv', index = False)"
   ]
  },
  {
   "cell_type": "code",
   "execution_count": 176,
   "metadata": {},
   "outputs": [
    {
     "data": {
      "text/plain": [
       "Index(['tempo', 'duration_ms', 'instrumentalness', 'danceability', 'loudness',\n",
       "       'energy', 'speechiness', 'valence', 'acousticness', 'liveness',\n",
       "       'genre'],\n",
       "      dtype='object')"
      ]
     },
     "execution_count": 176,
     "metadata": {},
     "output_type": "execute_result"
    }
   ],
   "source": [
    "final_dataset.columns"
   ]
  },
  {
   "cell_type": "code",
   "execution_count": 161,
   "metadata": {},
   "outputs": [],
   "source": [
    "# save model on disk\n",
    "path_to_model = os.path.join(path_to_repo, 'app Streamlit', 'saves', 'RF_classifier.pk')\n",
    "with open(path_to_model, 'wb') as file:\n",
    "    dill.dump(tuned_rf, file) "
   ]
  }
 ],
 "metadata": {
  "kernelspec": {
   "display_name": "Python 3",
   "language": "python",
   "name": "python3"
  },
  "language_info": {
   "codemirror_mode": {
    "name": "ipython",
    "version": 3
   },
   "file_extension": ".py",
   "mimetype": "text/x-python",
   "name": "python",
   "nbconvert_exporter": "python",
   "pygments_lexer": "ipython3",
   "version": "3.6.12"
  }
 },
 "nbformat": 4,
 "nbformat_minor": 4
}
